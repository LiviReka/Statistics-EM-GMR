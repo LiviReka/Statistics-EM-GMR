{
 "cells": [
  {
   "cell_type": "markdown",
   "metadata": {},
   "source": [
    "## Group project "
   ]
  },
  {
   "cell_type": "code",
   "execution_count": 1,
   "metadata": {},
   "outputs": [
    {
     "name": "stderr",
     "output_type": "stream",
     "text": [
      "/Users/polinab/.virtualenvs/base/lib/python3.8/site-packages/pandas/compat/__init__.py:120: UserWarning: Could not import the lzma module. Your installed Python is incomplete. Attempting to use lzma compression will result in a RuntimeError.\n",
      "  warnings.warn(msg)\n"
     ]
    }
   ],
   "source": [
    "#Import relevant packages\n",
    "import pandas as pd\n",
    "import numpy as np\n",
    "import matplotlib.pyplot as plt\n",
    "import seaborn as sns\n",
    "import random\n",
    "sns.set_theme(style=\"darkgrid\")\n",
    "random.seed(10)\n",
    "import math\n",
    "import scipy.stats"
   ]
  },
  {
   "cell_type": "markdown",
   "metadata": {},
   "source": [
    "## Generate the synthetic data set "
   ]
  },
  {
   "cell_type": "code",
   "execution_count": 2,
   "metadata": {},
   "outputs": [
    {
     "name": "stdout",
     "output_type": "stream",
     "text": [
      "Random bernoulli variable is assigned as 0.5714025946899135\n"
     ]
    },
    {
     "data": {
      "text/html": [
       "<div>\n",
       "<style scoped>\n",
       "    .dataframe tbody tr th:only-of-type {\n",
       "        vertical-align: middle;\n",
       "    }\n",
       "\n",
       "    .dataframe tbody tr th {\n",
       "        vertical-align: top;\n",
       "    }\n",
       "\n",
       "    .dataframe thead th {\n",
       "        text-align: right;\n",
       "    }\n",
       "</style>\n",
       "<table border=\"1\" class=\"dataframe\">\n",
       "  <thead>\n",
       "    <tr style=\"text-align: right;\">\n",
       "      <th></th>\n",
       "      <th>x</th>\n",
       "      <th>label</th>\n",
       "      <th>noise_a</th>\n",
       "      <th>noise_b</th>\n",
       "      <th>y</th>\n",
       "    </tr>\n",
       "  </thead>\n",
       "  <tbody>\n",
       "    <tr>\n",
       "      <th>0</th>\n",
       "      <td>5.150760</td>\n",
       "      <td>1</td>\n",
       "      <td>-0.701112</td>\n",
       "      <td>-2.754436</td>\n",
       "      <td>21.848606</td>\n",
       "    </tr>\n",
       "    <tr>\n",
       "      <th>1</th>\n",
       "      <td>4.810847</td>\n",
       "      <td>1</td>\n",
       "      <td>-0.068789</td>\n",
       "      <td>-3.331650</td>\n",
       "      <td>19.911736</td>\n",
       "    </tr>\n",
       "    <tr>\n",
       "      <th>2</th>\n",
       "      <td>1.111050</td>\n",
       "      <td>1</td>\n",
       "      <td>1.517471</td>\n",
       "      <td>7.317836</td>\n",
       "      <td>15.762036</td>\n",
       "    </tr>\n",
       "    <tr>\n",
       "      <th>3</th>\n",
       "      <td>0.608445</td>\n",
       "      <td>0</td>\n",
       "      <td>-0.317301</td>\n",
       "      <td>0.864326</td>\n",
       "      <td>3.508034</td>\n",
       "    </tr>\n",
       "    <tr>\n",
       "      <th>4</th>\n",
       "      <td>4.897261</td>\n",
       "      <td>1</td>\n",
       "      <td>-1.555106</td>\n",
       "      <td>-0.770379</td>\n",
       "      <td>22.818665</td>\n",
       "    </tr>\n",
       "    <tr>\n",
       "      <th>...</th>\n",
       "      <td>...</td>\n",
       "      <td>...</td>\n",
       "      <td>...</td>\n",
       "      <td>...</td>\n",
       "      <td>...</td>\n",
       "    </tr>\n",
       "    <tr>\n",
       "      <th>995</th>\n",
       "      <td>3.788841</td>\n",
       "      <td>0</td>\n",
       "      <td>0.645427</td>\n",
       "      <td>3.486171</td>\n",
       "      <td>14.011951</td>\n",
       "    </tr>\n",
       "    <tr>\n",
       "      <th>996</th>\n",
       "      <td>3.289258</td>\n",
       "      <td>0</td>\n",
       "      <td>-0.610905</td>\n",
       "      <td>7.042898</td>\n",
       "      <td>11.256868</td>\n",
       "    </tr>\n",
       "    <tr>\n",
       "      <th>997</th>\n",
       "      <td>5.317132</td>\n",
       "      <td>1</td>\n",
       "      <td>-1.231161</td>\n",
       "      <td>4.445525</td>\n",
       "      <td>29.714052</td>\n",
       "    </tr>\n",
       "    <tr>\n",
       "      <th>998</th>\n",
       "      <td>5.453903</td>\n",
       "      <td>1</td>\n",
       "      <td>0.152976</td>\n",
       "      <td>-0.228462</td>\n",
       "      <td>25.587152</td>\n",
       "    </tr>\n",
       "    <tr>\n",
       "      <th>999</th>\n",
       "      <td>2.871909</td>\n",
       "      <td>0</td>\n",
       "      <td>2.080600</td>\n",
       "      <td>0.060282</td>\n",
       "      <td>12.696328</td>\n",
       "    </tr>\n",
       "  </tbody>\n",
       "</table>\n",
       "<p>1000 rows × 5 columns</p>\n",
       "</div>"
      ],
      "text/plain": [
       "            x  label   noise_a   noise_b          y\n",
       "0    5.150760      1 -0.701112 -2.754436  21.848606\n",
       "1    4.810847      1 -0.068789 -3.331650  19.911736\n",
       "2    1.111050      1  1.517471  7.317836  15.762036\n",
       "3    0.608445      0 -0.317301  0.864326   3.508034\n",
       "4    4.897261      1 -1.555106 -0.770379  22.818665\n",
       "..        ...    ...       ...       ...        ...\n",
       "995  3.788841      0  0.645427  3.486171  14.011951\n",
       "996  3.289258      0 -0.610905  7.042898  11.256868\n",
       "997  5.317132      1 -1.231161  4.445525  29.714052\n",
       "998  5.453903      1  0.152976 -0.228462  25.587152\n",
       "999  2.871909      0  2.080600  0.060282  12.696328\n",
       "\n",
       "[1000 rows x 5 columns]"
      ]
     },
     "execution_count": 2,
     "metadata": {},
     "output_type": "execute_result"
    }
   ],
   "source": [
    "bernoulli = random.random()\n",
    "print(f'Random bernoulli variable is assigned as {bernoulli}')\n",
    "x = np.random.uniform(0, 10, 1000)\n",
    "label = np.random.binomial(1, bernoulli, 1000)\n",
    "noise_a = np.random.normal(0, 1, 1000) \n",
    "noise_b = np.random.normal(0, 3, 1000)\n",
    "d = {'x': x, 'label': label, 'noise_a': noise_a, 'noise_b': noise_b}\n",
    "df = pd.DataFrame(data=d)\n",
    "df.loc[df.label == 0, 'y'] = df.x * 3 + 2 + df.noise_a\n",
    "df.loc[df.label == 1, 'y'] = df.x * 4 + 4 + df.noise_b\n",
    "df"
   ]
  },
  {
   "cell_type": "markdown",
   "metadata": {},
   "source": [
    "## Plotting the data for a first overview "
   ]
  },
  {
   "cell_type": "code",
   "execution_count": 3,
   "metadata": {},
   "outputs": [
    {
     "data": {
      "text/plain": [
       "<AxesSubplot:xlabel='x', ylabel='y'>"
      ]
     },
     "execution_count": 3,
     "metadata": {},
     "output_type": "execute_result"
    },
    {
     "data": {
      "image/png": "[encoded data removed]",
      "text/plain": [
       "<Figure size 432x288 with 2 Axes>"
      ]
     },
     "metadata": {},
     "output_type": "display_data"
    }
   ],
   "source": [
    "fig, ax =plt.subplots(1,2, sharey=True)\n",
    "sns.scatterplot(data=df[df.label == 0],x='x', y='y', alpha=0.3,ax=ax[0])\n",
    "sns.scatterplot(data=df[df.label == 1],x='x', y='y', alpha=0.3,ax=ax[1])\n"
   ]
  },
  {
   "cell_type": "code",
   "execution_count": 4,
   "metadata": {},
   "outputs": [
    {
     "data": {
      "text/plain": [
       "<AxesSubplot:xlabel='x', ylabel='y'>"
      ]
     },
     "execution_count": 4,
     "metadata": {},
     "output_type": "execute_result"
    },
    {
     "data": {
      "image/png": "[encoded data removed]",
      "text/plain": [
       "<Figure size 432x288 with 1 Axes>"
      ]
     },
     "metadata": {},
     "output_type": "display_data"
    }
   ],
   "source": [
    "sns.regplot(data=df[df.label == 0],x='x', y='y',scatter_kws={'alpha':0.1})\n",
    "sns.regplot(data=df[df.label == 1],x='x', y='y',scatter_kws={'alpha':0.1})\n"
   ]
  },
  {
   "cell_type": "code",
   "execution_count": 5,
   "metadata": {},
   "outputs": [
    {
     "data": {
      "text/plain": [
       "<AxesSubplot:xlabel='x', ylabel='Density'>"
      ]
     },
     "execution_count": 5,
     "metadata": {},
     "output_type": "execute_result"
    },
    {
     "data": {
      "image/png": "[encoded data removed]",
      "text/plain": [
       "<Figure size 432x288 with 1 Axes>"
      ]
     },
     "metadata": {},
     "output_type": "display_data"
    }
   ],
   "source": [
    "sns.kdeplot(data=df.x)"
   ]
  },
  {
   "cell_type": "markdown",
   "metadata": {},
   "source": [
    "# Second part: mathematical background "
   ]
  },
  {
   "cell_type": "markdown",
   "metadata": {},
   "source": [
    "To Do !"
   ]
  },
  {
   "cell_type": "markdown",
   "metadata": {},
   "source": [
    "# Third part: Implementation of the EM algorithm "
   ]
  },
  {
   "cell_type": "markdown",
   "metadata": {},
   "source": [
    "## Initialization "
   ]
  },
  {
   "cell_type": "code",
   "execution_count": 6,
   "metadata": {},
   "outputs": [],
   "source": [
    "# initialization of the parameter\n",
    "variance_a = random.randint(1, 3) #needs to be >= 0\n",
    "variance_b = random.randint(1, 3) #needs to be >= 0\n",
    "\n",
    "beta_a0 = beta_b0 = 0.5\n",
    "beta_a1 = beta_b1 = 1\n",
    "prob_a = 0.76\n",
    "prob_b = 1 - prob_a\n",
    "\n",
    "# parameter_list = [beta_a0,beta_a1,variance_a,variance_b,beta_b0,beta_b1,prob_a,prob_b]\n",
    "# parameter_list\n",
    "\n",
    "params = {\n",
    "    'variance_a':variance_a,\n",
    "    'variance_b': variance_b,\n",
    "    'beta_a0':beta_a0,\n",
    "    'beta_a1':beta_a1,\n",
    "    'beta_b0':beta_b0,\n",
    "    'beta_b1':beta_b1,\n",
    "    'prob_a':prob_a,\n",
    "    'prob_b':prob_b\n",
    "    \n",
    "}\n",
    "\n"
   ]
  },
  {
   "cell_type": "markdown",
   "metadata": {},
   "source": [
    "## Setting the weights "
   ]
  },
  {
   "cell_type": "code",
   "execution_count": 7,
   "metadata": {},
   "outputs": [
    {
     "name": "stdout",
     "output_type": "stream",
     "text": [
      "6.994000322768162e-30 2.2086316808741563e-30 9.202632003642319e-30\n"
     ]
    }
   ],
   "source": [
    "w_a_numerator  = prob_a * (1/np.sqrt(2*np.pi*variance_a)) * np.exp((-(1/(2*variance_a)) * (df.y - beta_a0 - beta_a1*df.x)**2))\n",
    "w_b_numerator = prob_b * (1/np.sqrt(2*np.pi*variance_b)) * np.exp((-(1/(2*variance_b)) * (df.y - beta_b0 - beta_b1*df.x)**2))\n",
    "\n",
    "w_sum = w_a_numerator + w_b_numerator\n",
    "print(w_a_numerator[0], w_b_numerator[0],w_sum[0])\n",
    "w_a = w_a_numerator/w_sum\n",
    "w_b = w_b_numerator/w_sum"
   ]
  },
  {
   "cell_type": "code",
   "execution_count": 8,
   "metadata": {},
   "outputs": [
    {
     "data": {
      "text/html": [
       "<div>\n",
       "<style scoped>\n",
       "    .dataframe tbody tr th:only-of-type {\n",
       "        vertical-align: middle;\n",
       "    }\n",
       "\n",
       "    .dataframe tbody tr th {\n",
       "        vertical-align: top;\n",
       "    }\n",
       "\n",
       "    .dataframe thead th {\n",
       "        text-align: right;\n",
       "    }\n",
       "</style>\n",
       "<table border=\"1\" class=\"dataframe\">\n",
       "  <thead>\n",
       "    <tr style=\"text-align: right;\">\n",
       "      <th></th>\n",
       "      <th>w_a</th>\n",
       "      <th>w_b</th>\n",
       "    </tr>\n",
       "  </thead>\n",
       "  <tbody>\n",
       "    <tr>\n",
       "      <th>0</th>\n",
       "      <td>0.76</td>\n",
       "      <td>0.24</td>\n",
       "    </tr>\n",
       "    <tr>\n",
       "      <th>1</th>\n",
       "      <td>0.76</td>\n",
       "      <td>0.24</td>\n",
       "    </tr>\n",
       "    <tr>\n",
       "      <th>2</th>\n",
       "      <td>0.76</td>\n",
       "      <td>0.24</td>\n",
       "    </tr>\n",
       "    <tr>\n",
       "      <th>3</th>\n",
       "      <td>0.76</td>\n",
       "      <td>0.24</td>\n",
       "    </tr>\n",
       "    <tr>\n",
       "      <th>4</th>\n",
       "      <td>0.76</td>\n",
       "      <td>0.24</td>\n",
       "    </tr>\n",
       "  </tbody>\n",
       "</table>\n",
       "</div>"
      ],
      "text/plain": [
       "    w_a   w_b\n",
       "0  0.76  0.24\n",
       "1  0.76  0.24\n",
       "2  0.76  0.24\n",
       "3  0.76  0.24\n",
       "4  0.76  0.24"
      ]
     },
     "execution_count": 8,
     "metadata": {},
     "output_type": "execute_result"
    }
   ],
   "source": [
    "w_data = pd.DataFrame(data = {'w_a':w_a,'w_b':w_b})\n",
    "w_data.head()"
   ]
  },
  {
   "cell_type": "markdown",
   "metadata": {},
   "source": [
    "## Expectation step"
   ]
  },
  {
   "cell_type": "code",
   "execution_count": 9,
   "metadata": {},
   "outputs": [],
   "source": [
    "##Expectation step\n",
    "def Estep(p):\n",
    "   \n",
    "    #Set the values for the algorithm\n",
    "    w_a_numerator  = p['prob_a'] * (1/np.sqrt(2*np.pi*p['variance_a'])) * np.exp((-(1/(2*p['variance_a'])) * (df.y - p['beta_a0'] - p['beta_a1']*df.x)**2))\n",
    "    w_a_numerator  = p['prob_b'] * (1/np.sqrt(2*np.pi*p['variance_b'])) * np.exp((-(1/(2*p['variance_b'])) * (df.y - p['beta_b0'] - p['beta_b1']*df.x)**2))\n",
    "    p['w_sum'] = w_a_numerator + w_b_numerator\n",
    "    p['w_a'] = w_a_numerator/w_sum\n",
    "    p['w_b'] = w_b_numerator/w_sum\n",
    "    \n",
    "    return p\n"
   ]
  },
  {
   "cell_type": "markdown",
   "metadata": {},
   "source": [
    "## Maximisation step"
   ]
  },
  {
   "cell_type": "code",
   "execution_count": 10,
   "metadata": {},
   "outputs": [],
   "source": [
    "## Maximisation step:\n",
    "def Mstep(p, df):\n",
    "\n",
    "    #Update the function following the derived update rules:\n",
    "    \n",
    "    #Update the prior beliefs\n",
    "    p['prob_a'] = p['w_a'].sum()/(p['w_a'].sum() +p['w_b'].sum()).sum()\n",
    "    p['prob_b'] = p['w_b'].sum()/(p['w_a'].sum() +p['w_b'].sum()).sum()\n",
    "    \n",
    "    #Update the betas for each subgroup\n",
    "    #Beta_0\n",
    "    \n",
    "    p['beta_a0'] = ((df.y - p['beta_a1']*df.x)*p['w_a']).sum()/p['w_a'].sum() \n",
    "    p['beta_b0'] = ((df.y - p['beta_b1']*df.x)*p['w_b']).sum()/p['w_b'].sum() \n",
    "  \n",
    "    #New beta formula\n",
    "    p['beta_a1'] = ((df.y*df.x - p['beta_a0']*df.x)*p['w_a']).sum()/(p['w_a']*df.x**2).sum() \n",
    "    p['beta_b1'] = ((df.y*df.x - p['beta_b0']*df.x)*p['w_b']).sum()/(p['w_b']*df.x**2).sum() \n",
    "    #print('beta1', beta_a1, beta_b1)\n",
    "    \n",
    "    #Update the variance \n",
    "    #Define the residuals first\n",
    "    e_hat_a = df.y - p['beta_a0']-p['beta_a1']*df.x\n",
    "    e_hat_b = df.y - p['beta_b0']-p['beta_b1']*df.x\n",
    "    #print('ehat', e_hat_a, e_hat_b)\n",
    "    \n",
    "    #Define the variance \n",
    "\n",
    "    p['variance_a'] = ((e_hat_a**2)*p['w_a']).sum()/p['w_a'].sum()\n",
    "    p['variance_b'] = ((e_hat_b**2)*p['w_b']).sum()/p['w_b'].sum()\n",
    "\n",
    "    return p\n",
    "    "
   ]
  },
  {
   "cell_type": "code",
   "execution_count": 11,
   "metadata": {},
   "outputs": [
    {
     "data": {
      "text/plain": [
       "{'variance_a': 60.2436542198581,\n",
       " 'variance_b': 60.2436542198581,\n",
       " 'beta_a0': 15.626384895897411,\n",
       " 'beta_a1': 1.6791870547392538,\n",
       " 'beta_b0': 15.626384895897411,\n",
       " 'beta_b1': 1.6791870547392538,\n",
       " 'prob_a': 0.5,\n",
       " 'prob_b': 0.5,\n",
       " 'w_sum': 0      4.417263e-30\n",
       " 1      9.666350e-25\n",
       " 2      2.453151e-23\n",
       " 3      3.209713e-02\n",
       " 4      1.509958e-34\n",
       "            ...     \n",
       " 995    7.365645e-12\n",
       " 996    1.194006e-07\n",
       " 997    1.346736e-63\n",
       " 998    1.907068e-43\n",
       " 999    4.917307e-11\n",
       " Length: 1000, dtype: float64,\n",
       " 'w_a': 0      0.24\n",
       " 1      0.24\n",
       " 2      0.24\n",
       " 3      0.24\n",
       " 4      0.24\n",
       "        ... \n",
       " 995    0.24\n",
       " 996    0.24\n",
       " 997    0.24\n",
       " 998    0.24\n",
       " 999    0.24\n",
       " Length: 1000, dtype: float64,\n",
       " 'w_b': 0      0.24\n",
       " 1      0.24\n",
       " 2      0.24\n",
       " 3      0.24\n",
       " 4      0.24\n",
       "        ... \n",
       " 995    0.24\n",
       " 996    0.24\n",
       " 997    0.24\n",
       " 998    0.24\n",
       " 999    0.24\n",
       " Length: 1000, dtype: float64}"
      ]
     },
     "execution_count": 11,
     "metadata": {},
     "output_type": "execute_result"
    }
   ],
   "source": [
    "Mstep(Estep(params),df)\n"
   ]
  },
  {
   "cell_type": "markdown",
   "metadata": {},
   "source": [
    "## Defining the average likelihood function"
   ]
  },
  {
   "cell_type": "code",
   "execution_count": 12,
   "metadata": {},
   "outputs": [],
   "source": [
    "def get_avg_log_likelihood(p,df):\n",
    "    \n",
    "    Q_function_a = -1/2*((p['w_a']*((df.y-p['beta_a0']-p['beta_a1']*df.x)**2-math.log(p['variance_a']))).sum())\n",
    "    Q_function_b = -1/2*((p['w_b']*((df.y-p['beta_b0']-p['beta_b1']*df.x)**2-math.log(p['variance_b']))).sum())\n",
    "    \n",
    "    Q_function = Q_function_a + Q_function_b\n",
    "    \n",
    "    return Q_function"
   ]
  },
  {
   "cell_type": "code",
   "execution_count": 13,
   "metadata": {},
   "outputs": [],
   "source": [
    "def run_em(p,df):\n",
    "    avg_loglikelihoods = []\n",
    "    while True: \n",
    "        #re-initialize parameters\n",
    "        p['variance_a'] = random.randint(1, 3) #needs to be >= 0\n",
    "        p['variance_b'] = random.randint(1, 3) #needs to be >= 0\n",
    "        p['beta_a0'] = p['beta_b0'] = random.random()\n",
    "        p['beta_a1'] = p['beta_b1'] = random.randint(0,10)\n",
    "        p['prob_a'] = random.random()\n",
    "        p['prob_b'] = 1 - p['prob_a']\n",
    "        \n",
    "        #Estimation step\n",
    "        p = Mstep(Estep(p),df)\n",
    "                \n",
    "        #Evaluate the loglikelihood function\n",
    "        avg_loglikelihood = get_avg_log_likelihood(p,df)\n",
    "        avg_loglikelihoods.append(avg_loglikelihood)\n",
    "        slope = 1/avg_loglikelihood\n",
    "        if len(avg_loglikelihoods)>2 and (avg_loglikelihoods[-1] - avg_loglikelihoods[-2]) < 0:\n",
    "            break\n",
    "        if len(avg_loglikelihoods) > 2 and abs(avg_loglikelihoods[-1] - avg_loglikelihoods[-2]) < 0.0001: #Define a stopping criterion\n",
    "            break\n",
    "    \n",
    "    return p, avg_loglikelihoods\n"
   ]
  },
  {
   "cell_type": "code",
   "execution_count": 14,
   "metadata": {},
   "outputs": [],
   "source": [
    "new_params, log_likelies = run_em(params, df)"
   ]
  },
  {
   "cell_type": "code",
   "execution_count": 15,
   "metadata": {},
   "outputs": [
    {
     "data": {
      "text/plain": [
       "[-2.703862705246513e+136,\n",
       " -1.0912691770448604e+138,\n",
       " -251242321.30135635,\n",
       " -3.770915671122152e+175]"
      ]
     },
     "execution_count": 15,
     "metadata": {},
     "output_type": "execute_result"
    }
   ],
   "source": [
    "log_likelies"
   ]
  },
  {
   "cell_type": "markdown",
   "metadata": {},
   "source": [
    "## Plotting the iterations "
   ]
  },
  {
   "cell_type": "code",
   "execution_count": 16,
   "metadata": {},
   "outputs": [],
   "source": [
    "iterations = np.arange(0,len(log_likelies),1)\n",
    "data_log = pd.DataFrame(data={'logs': log_likelies, 'iterations': iterations})"
   ]
  },
  {
   "cell_type": "code",
   "execution_count": 17,
   "metadata": {},
   "outputs": [
    {
     "data": {
      "text/html": [
       "<div>\n",
       "<style scoped>\n",
       "    .dataframe tbody tr th:only-of-type {\n",
       "        vertical-align: middle;\n",
       "    }\n",
       "\n",
       "    .dataframe tbody tr th {\n",
       "        vertical-align: top;\n",
       "    }\n",
       "\n",
       "    .dataframe thead th {\n",
       "        text-align: right;\n",
       "    }\n",
       "</style>\n",
       "<table border=\"1\" class=\"dataframe\">\n",
       "  <thead>\n",
       "    <tr style=\"text-align: right;\">\n",
       "      <th></th>\n",
       "      <th>logs</th>\n",
       "      <th>iterations</th>\n",
       "    </tr>\n",
       "  </thead>\n",
       "  <tbody>\n",
       "    <tr>\n",
       "      <th>0</th>\n",
       "      <td>-2.703863e+136</td>\n",
       "      <td>0</td>\n",
       "    </tr>\n",
       "    <tr>\n",
       "      <th>1</th>\n",
       "      <td>-1.091269e+138</td>\n",
       "      <td>1</td>\n",
       "    </tr>\n",
       "    <tr>\n",
       "      <th>2</th>\n",
       "      <td>-2.512423e+08</td>\n",
       "      <td>2</td>\n",
       "    </tr>\n",
       "    <tr>\n",
       "      <th>3</th>\n",
       "      <td>-3.770916e+175</td>\n",
       "      <td>3</td>\n",
       "    </tr>\n",
       "  </tbody>\n",
       "</table>\n",
       "</div>"
      ],
      "text/plain": [
       "            logs  iterations\n",
       "0 -2.703863e+136           0\n",
       "1 -1.091269e+138           1\n",
       "2  -2.512423e+08           2\n",
       "3 -3.770916e+175           3"
      ]
     },
     "execution_count": 17,
     "metadata": {},
     "output_type": "execute_result"
    }
   ],
   "source": [
    "data_log"
   ]
  },
  {
   "cell_type": "code",
   "execution_count": 18,
   "metadata": {},
   "outputs": [
    {
     "data": {
      "text/plain": [
       "<AxesSubplot:xlabel='iterations', ylabel='logs'>"
      ]
     },
     "execution_count": 18,
     "metadata": {},
     "output_type": "execute_result"
    },
    {
     "data": {
      "image/png": "[encoded data removed]",
      "text/plain": [
       "<Figure size 432x288 with 1 Axes>"
      ]
     },
     "metadata": {},
     "output_type": "display_data"
    }
   ],
   "source": [
    "sns.scatterplot(x = 'iterations', y = 'logs', data = data_log)"
   ]
  }
 ],
 "metadata": {
  "kernelspec": {
   "display_name": "Python 3",
   "language": "python",
   "name": "python3"
  },
  "language_info": {
   "codemirror_mode": {
    "name": "ipython",
    "version": 3
   },
   "file_extension": ".py",
   "mimetype": "text/x-python",
   "name": "python",
   "nbconvert_exporter": "python",
   "pygments_lexer": "ipython3",
   "version": "3.8.5"
  }
 },
 "nbformat": 4,
 "nbformat_minor": 4
}
