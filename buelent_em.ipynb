{
 "cells": [
  {
   "cell_type": "markdown",
   "metadata": {},
   "source": [
    "## Group project "
   ]
  },
  {
   "cell_type": "code",
   "execution_count": 318,
   "metadata": {},
   "outputs": [],
   "source": [
    "#Import relevant packages\n",
    "import pandas as pd\n",
    "import numpy as np\n",
    "import matplotlib.pyplot as plt\n",
    "import seaborn as sns\n",
    "import random\n",
    "#sns.set_theme(style=\"darkgrid\")\n",
    "random.seed(10)\n",
    "import math"
   ]
  },
  {
   "cell_type": "markdown",
   "metadata": {},
   "source": [
    "## Generate the synthetic data set "
   ]
  },
  {
   "cell_type": "code",
   "execution_count": 319,
   "metadata": {},
   "outputs": [
    {
     "name": "stdout",
     "output_type": "stream",
     "text": [
      "Random bernoulli variable is assigned as 0.5714025946899135\n"
     ]
    },
    {
     "data": {
      "text/html": [
       "<div>\n",
       "<style scoped>\n",
       "    .dataframe tbody tr th:only-of-type {\n",
       "        vertical-align: middle;\n",
       "    }\n",
       "\n",
       "    .dataframe tbody tr th {\n",
       "        vertical-align: top;\n",
       "    }\n",
       "\n",
       "    .dataframe thead th {\n",
       "        text-align: right;\n",
       "    }\n",
       "</style>\n",
       "<table border=\"1\" class=\"dataframe\">\n",
       "  <thead>\n",
       "    <tr style=\"text-align: right;\">\n",
       "      <th></th>\n",
       "      <th>x</th>\n",
       "      <th>label</th>\n",
       "      <th>noise_a</th>\n",
       "      <th>noise_b</th>\n",
       "      <th>y</th>\n",
       "    </tr>\n",
       "  </thead>\n",
       "  <tbody>\n",
       "    <tr>\n",
       "      <th>0</th>\n",
       "      <td>3.872340</td>\n",
       "      <td>1</td>\n",
       "      <td>1.044146</td>\n",
       "      <td>-2.635183</td>\n",
       "      <td>22.854178</td>\n",
       "    </tr>\n",
       "    <tr>\n",
       "      <th>1</th>\n",
       "      <td>0.617154</td>\n",
       "      <td>1</td>\n",
       "      <td>0.623034</td>\n",
       "      <td>5.101949</td>\n",
       "      <td>17.570567</td>\n",
       "    </tr>\n",
       "    <tr>\n",
       "      <th>2</th>\n",
       "      <td>6.962236</td>\n",
       "      <td>1</td>\n",
       "      <td>0.233301</td>\n",
       "      <td>3.330161</td>\n",
       "      <td>41.179106</td>\n",
       "    </tr>\n",
       "    <tr>\n",
       "      <th>3</th>\n",
       "      <td>4.020162</td>\n",
       "      <td>1</td>\n",
       "      <td>-0.507225</td>\n",
       "      <td>-1.202816</td>\n",
       "      <td>24.877834</td>\n",
       "    </tr>\n",
       "    <tr>\n",
       "      <th>4</th>\n",
       "      <td>7.658071</td>\n",
       "      <td>1</td>\n",
       "      <td>-1.637698</td>\n",
       "      <td>0.173279</td>\n",
       "      <td>40.805565</td>\n",
       "    </tr>\n",
       "    <tr>\n",
       "      <th>...</th>\n",
       "      <td>...</td>\n",
       "      <td>...</td>\n",
       "      <td>...</td>\n",
       "      <td>...</td>\n",
       "      <td>...</td>\n",
       "    </tr>\n",
       "    <tr>\n",
       "      <th>995</th>\n",
       "      <td>9.232815</td>\n",
       "      <td>0</td>\n",
       "      <td>-0.492070</td>\n",
       "      <td>-3.383096</td>\n",
       "      <td>29.206376</td>\n",
       "    </tr>\n",
       "    <tr>\n",
       "      <th>996</th>\n",
       "      <td>9.701906</td>\n",
       "      <td>1</td>\n",
       "      <td>0.312617</td>\n",
       "      <td>0.737891</td>\n",
       "      <td>49.545514</td>\n",
       "    </tr>\n",
       "    <tr>\n",
       "      <th>997</th>\n",
       "      <td>4.282489</td>\n",
       "      <td>1</td>\n",
       "      <td>-1.517656</td>\n",
       "      <td>0.071098</td>\n",
       "      <td>27.201055</td>\n",
       "    </tr>\n",
       "    <tr>\n",
       "      <th>998</th>\n",
       "      <td>5.087786</td>\n",
       "      <td>0</td>\n",
       "      <td>0.876415</td>\n",
       "      <td>-1.850530</td>\n",
       "      <td>18.139772</td>\n",
       "    </tr>\n",
       "    <tr>\n",
       "      <th>999</th>\n",
       "      <td>8.883437</td>\n",
       "      <td>1</td>\n",
       "      <td>0.673413</td>\n",
       "      <td>-1.299090</td>\n",
       "      <td>44.234657</td>\n",
       "    </tr>\n",
       "  </tbody>\n",
       "</table>\n",
       "<p>1000 rows × 5 columns</p>\n",
       "</div>"
      ],
      "text/plain": [
       "            x  label   noise_a   noise_b          y\n",
       "0    3.872340      1  1.044146 -2.635183  22.854178\n",
       "1    0.617154      1  0.623034  5.101949  17.570567\n",
       "2    6.962236      1  0.233301  3.330161  41.179106\n",
       "3    4.020162      1 -0.507225 -1.202816  24.877834\n",
       "4    7.658071      1 -1.637698  0.173279  40.805565\n",
       "..        ...    ...       ...       ...        ...\n",
       "995  9.232815      0 -0.492070 -3.383096  29.206376\n",
       "996  9.701906      1  0.312617  0.737891  49.545514\n",
       "997  4.282489      1 -1.517656  0.071098  27.201055\n",
       "998  5.087786      0  0.876415 -1.850530  18.139772\n",
       "999  8.883437      1  0.673413 -1.299090  44.234657\n",
       "\n",
       "[1000 rows x 5 columns]"
      ]
     },
     "execution_count": 319,
     "metadata": {},
     "output_type": "execute_result"
    }
   ],
   "source": [
    "bernoulli = random.random()\n",
    "print(f'Random bernoulli variable is assigned as {bernoulli}')\n",
    "x = np.random.uniform(0, 10, 1000)\n",
    "label = np.random.binomial(1, bernoulli, 1000)\n",
    "noise_a = np.random.normal(0, 1, 1000) \n",
    "noise_b = np.random.normal(0, 3, 1000)\n",
    "d = {'x': x, 'label': label, 'noise_a': noise_a, 'noise_b': noise_b}\n",
    "df = pd.DataFrame(data=d)\n",
    "df.loc[df.label == 0, 'y'] = df.x * 3 + 2 + df.noise_a\n",
    "df.loc[df.label == 1, 'y'] = df.x * 4 + 10 + df.noise_b\n",
    "df"
   ]
  },
  {
   "cell_type": "markdown",
   "metadata": {},
   "source": [
    "## Plotting the data for a first overview "
   ]
  },
  {
   "cell_type": "code",
   "execution_count": 321,
   "metadata": {},
   "outputs": [
    {
     "data": {
      "text/plain": [
       "<matplotlib.axes._subplots.AxesSubplot at 0x7fd24a5a95b0>"
      ]
     },
     "execution_count": 321,
     "metadata": {},
     "output_type": "execute_result"
    },
    {
     "data": {
      "image/png": "[encoded data removed]",
      "text/plain": [
       "<Figure size 432x288 with 2 Axes>"
      ]
     },
     "metadata": {
      "needs_background": "light"
     },
     "output_type": "display_data"
    }
   ],
   "source": [
    "fig, ax =plt.subplots(1,2, sharey=True)\n",
    "sns.scatterplot(data=df[df.label == 0],x='x', y='y', alpha=0.3,ax=ax[0])\n",
    "sns.scatterplot(data=df[df.label == 1],x='x', y='y', alpha=0.3,ax=ax[1])\n"
   ]
  },
  {
   "cell_type": "code",
   "execution_count": 322,
   "metadata": {},
   "outputs": [
    {
     "data": {
      "text/plain": [
       "<matplotlib.axes._subplots.AxesSubplot at 0x7fd24a580940>"
      ]
     },
     "execution_count": 322,
     "metadata": {},
     "output_type": "execute_result"
    },
    {
     "data": {
      "image/png": "[encoded data removed]",
      "text/plain": [
       "<Figure size 432x288 with 1 Axes>"
      ]
     },
     "metadata": {
      "needs_background": "light"
     },
     "output_type": "display_data"
    }
   ],
   "source": [
    "sns.regplot(data=df[df.label == 0],x='x', y='y',scatter_kws={'alpha':0.1})\n",
    "sns.regplot(data=df[df.label == 1],x='x', y='y',scatter_kws={'alpha':0.1})\n"
   ]
  },
  {
   "cell_type": "code",
   "execution_count": 323,
   "metadata": {},
   "outputs": [
    {
     "data": {
      "text/plain": [
       "<matplotlib.axes._subplots.AxesSubplot at 0x7fd24a4ee610>"
      ]
     },
     "execution_count": 323,
     "metadata": {},
     "output_type": "execute_result"
    },
    {
     "data": {
      "image/png": "[encoded data removed]",
      "text/plain": [
       "<Figure size 432x288 with 1 Axes>"
      ]
     },
     "metadata": {
      "needs_background": "light"
     },
     "output_type": "display_data"
    }
   ],
   "source": [
    "sns.kdeplot(data=df.x)"
   ]
  },
  {
   "cell_type": "markdown",
   "metadata": {},
   "source": [
    "# Second part: mathematical background "
   ]
  },
  {
   "cell_type": "markdown",
   "metadata": {},
   "source": [
    "To Do !"
   ]
  },
  {
   "cell_type": "markdown",
   "metadata": {},
   "source": [
    "# Third part: Implementation of the EM algorithm "
   ]
  },
  {
   "cell_type": "markdown",
   "metadata": {},
   "source": [
    "## Initialization "
   ]
  },
  {
   "cell_type": "code",
   "execution_count": 324,
   "metadata": {},
   "outputs": [],
   "source": [
    "import scipy.stats"
   ]
  },
  {
   "cell_type": "code",
   "execution_count": 325,
   "metadata": {},
   "outputs": [
    {
     "data": {
      "text/plain": [
       "[0, 1, 2, 2, 0, 1, 0.5, 0.5]"
      ]
     },
     "execution_count": 325,
     "metadata": {},
     "output_type": "execute_result"
    }
   ],
   "source": [
    "# initialization of the parameter\n",
    "variance_a = random.randint(1, 3) #needs to be >= 0\n",
    "variance_b = random.randint(1, 3) #needs to be >= 0\n",
    "\n",
    "beta_a0 = beta_b0 = 0\n",
    "beta_a1 = beta_b1 = 1\n",
    "prob_a = 0.5\n",
    "prob_b = 0.5\n",
    "\n",
    "parameter_list = [beta_a0,beta_a1,variance_a,variance_b,beta_b0,beta_b1,prob_a,prob_b]\n",
    "parameter_list"
   ]
  },
  {
   "cell_type": "code",
   "execution_count": 326,
   "metadata": {},
   "outputs": [
    {
     "data": {
      "text/html": [
       "<div>\n",
       "<style scoped>\n",
       "    .dataframe tbody tr th:only-of-type {\n",
       "        vertical-align: middle;\n",
       "    }\n",
       "\n",
       "    .dataframe tbody tr th {\n",
       "        vertical-align: top;\n",
       "    }\n",
       "\n",
       "    .dataframe thead th {\n",
       "        text-align: right;\n",
       "    }\n",
       "</style>\n",
       "<table border=\"1\" class=\"dataframe\">\n",
       "  <thead>\n",
       "    <tr style=\"text-align: right;\">\n",
       "      <th></th>\n",
       "      <th>x</th>\n",
       "      <th>label</th>\n",
       "      <th>noise_a</th>\n",
       "      <th>noise_b</th>\n",
       "      <th>y</th>\n",
       "    </tr>\n",
       "  </thead>\n",
       "  <tbody>\n",
       "    <tr>\n",
       "      <th>0</th>\n",
       "      <td>3.872340</td>\n",
       "      <td>1</td>\n",
       "      <td>1.044146</td>\n",
       "      <td>-2.635183</td>\n",
       "      <td>22.854178</td>\n",
       "    </tr>\n",
       "    <tr>\n",
       "      <th>1</th>\n",
       "      <td>0.617154</td>\n",
       "      <td>1</td>\n",
       "      <td>0.623034</td>\n",
       "      <td>5.101949</td>\n",
       "      <td>17.570567</td>\n",
       "    </tr>\n",
       "    <tr>\n",
       "      <th>2</th>\n",
       "      <td>6.962236</td>\n",
       "      <td>1</td>\n",
       "      <td>0.233301</td>\n",
       "      <td>3.330161</td>\n",
       "      <td>41.179106</td>\n",
       "    </tr>\n",
       "    <tr>\n",
       "      <th>3</th>\n",
       "      <td>4.020162</td>\n",
       "      <td>1</td>\n",
       "      <td>-0.507225</td>\n",
       "      <td>-1.202816</td>\n",
       "      <td>24.877834</td>\n",
       "    </tr>\n",
       "    <tr>\n",
       "      <th>4</th>\n",
       "      <td>7.658071</td>\n",
       "      <td>1</td>\n",
       "      <td>-1.637698</td>\n",
       "      <td>0.173279</td>\n",
       "      <td>40.805565</td>\n",
       "    </tr>\n",
       "    <tr>\n",
       "      <th>...</th>\n",
       "      <td>...</td>\n",
       "      <td>...</td>\n",
       "      <td>...</td>\n",
       "      <td>...</td>\n",
       "      <td>...</td>\n",
       "    </tr>\n",
       "    <tr>\n",
       "      <th>995</th>\n",
       "      <td>9.232815</td>\n",
       "      <td>0</td>\n",
       "      <td>-0.492070</td>\n",
       "      <td>-3.383096</td>\n",
       "      <td>29.206376</td>\n",
       "    </tr>\n",
       "    <tr>\n",
       "      <th>996</th>\n",
       "      <td>9.701906</td>\n",
       "      <td>1</td>\n",
       "      <td>0.312617</td>\n",
       "      <td>0.737891</td>\n",
       "      <td>49.545514</td>\n",
       "    </tr>\n",
       "    <tr>\n",
       "      <th>997</th>\n",
       "      <td>4.282489</td>\n",
       "      <td>1</td>\n",
       "      <td>-1.517656</td>\n",
       "      <td>0.071098</td>\n",
       "      <td>27.201055</td>\n",
       "    </tr>\n",
       "    <tr>\n",
       "      <th>998</th>\n",
       "      <td>5.087786</td>\n",
       "      <td>0</td>\n",
       "      <td>0.876415</td>\n",
       "      <td>-1.850530</td>\n",
       "      <td>18.139772</td>\n",
       "    </tr>\n",
       "    <tr>\n",
       "      <th>999</th>\n",
       "      <td>8.883437</td>\n",
       "      <td>1</td>\n",
       "      <td>0.673413</td>\n",
       "      <td>-1.299090</td>\n",
       "      <td>44.234657</td>\n",
       "    </tr>\n",
       "  </tbody>\n",
       "</table>\n",
       "<p>1000 rows × 5 columns</p>\n",
       "</div>"
      ],
      "text/plain": [
       "            x  label   noise_a   noise_b          y\n",
       "0    3.872340      1  1.044146 -2.635183  22.854178\n",
       "1    0.617154      1  0.623034  5.101949  17.570567\n",
       "2    6.962236      1  0.233301  3.330161  41.179106\n",
       "3    4.020162      1 -0.507225 -1.202816  24.877834\n",
       "4    7.658071      1 -1.637698  0.173279  40.805565\n",
       "..        ...    ...       ...       ...        ...\n",
       "995  9.232815      0 -0.492070 -3.383096  29.206376\n",
       "996  9.701906      1  0.312617  0.737891  49.545514\n",
       "997  4.282489      1 -1.517656  0.071098  27.201055\n",
       "998  5.087786      0  0.876415 -1.850530  18.139772\n",
       "999  8.883437      1  0.673413 -1.299090  44.234657\n",
       "\n",
       "[1000 rows x 5 columns]"
      ]
     },
     "execution_count": 326,
     "metadata": {},
     "output_type": "execute_result"
    }
   ],
   "source": [
    "df"
   ]
  },
  {
   "cell_type": "code",
   "execution_count": 327,
   "metadata": {},
   "outputs": [],
   "source": [
    "w_a =  prob_a * scipy.stats.norm(df.y - beta_a0 - beta_a1*df.x, variance_a).cdf(df.x)\n",
    "w_b =  prob_b * scipy.stats.norm(df.y - beta_b0 - beta_b1*df.x, variance_b).cdf(df.x)"
   ]
  },
  {
   "cell_type": "code",
   "execution_count": 328,
   "metadata": {},
   "outputs": [
    {
     "data": {
      "text/plain": [
       "count    1.000000e+03\n",
       "mean     4.500752e-03\n",
       "std      1.777734e-02\n",
       "min      4.422275e-77\n",
       "25%      1.156559e-29\n",
       "50%      2.962574e-12\n",
       "75%      8.779154e-06\n",
       "max      1.854121e-01\n",
       "Name: a, dtype: float64"
      ]
     },
     "execution_count": 328,
     "metadata": {},
     "output_type": "execute_result"
    }
   ],
   "source": [
    "w  = pd.DataFrame(data = {'a': w_a, 'b':w_b})\n",
    "w['a'].describe()"
   ]
  },
  {
   "cell_type": "code",
   "execution_count": 307,
   "metadata": {},
   "outputs": [],
   "source": [
    "#w_a = prob_a * (1/np.sqrt(2*np.pi*variance_a)) * np.exp((-(1/(2*variance_a)) * (df.y - beta_a0 - beta_a1*df.x)**2))\n",
    "#w_b = prob_b * (1/np.sqrt(2*np.pi*variance_b)) * np.exp((-(1/(2*variance_b)) * (df.y - beta_b0 - beta_b1*df.x)**2))"
   ]
  },
  {
   "cell_type": "markdown",
   "metadata": {},
   "source": [
    "## Expectation step"
   ]
  },
  {
   "cell_type": "code",
   "execution_count": 329,
   "metadata": {},
   "outputs": [],
   "source": [
    "##Expectation step\n",
    "def Estep(parameter_list):\n",
    "    \n",
    "    beta_a0=parameter_list[0]\n",
    "    beta_a1=parameter_list[1]\n",
    "    variance_a=parameter_list[2]\n",
    "    variance_b=parameter_list[3]\n",
    "    beta_b0 = parameter_list[4]\n",
    "    beta_b1 = parameter_list[5]\n",
    "    prob_a = parameter_list[6]\n",
    "    prob_b = parameter_list[7]\n",
    "    \n",
    "    #Set the values for the algorithm\n",
    "    w_a =  prob_a * scipy.stats.norm(df.y - beta_a0 - beta_a1*df.x, variance_a).cdf(df.x)\n",
    "    w_b =  prob_b * scipy.stats.norm(df.y - beta_b0 - beta_b1*df.x, variance_b).cdf(df.x)\n",
    "    #w_a = prob_a * (1/np.sqrt(2*np.pi*variance_a)) * np.exp((-1/(2*variance_a) * (df.y - beta_a0 - beta_a1*df.x)**2))\n",
    "    #w_b = 1-w_a\n",
    "    #w_b = prob_b * (1/np.sqrt(2*np.pi*variance_b)) * np.exp((-1/(2*variance_b) * (df.y - beta_b0 - beta_b1*df.x)**2))\n",
    "    \n",
    "    return(w_a,w_b)\n"
   ]
  },
  {
   "cell_type": "markdown",
   "metadata": {},
   "source": [
    "## Maximisation step"
   ]
  },
  {
   "cell_type": "code",
   "execution_count": 330,
   "metadata": {},
   "outputs": [],
   "source": [
    "## Maximisation step:\n",
    "def Mstep(w_a, w_b, parameter_list, df):\n",
    "    \n",
    "    beta_a0=parameter_list[0]\n",
    "    beta_a1=parameter_list[1]\n",
    "    variance_a=parameter_list[2]\n",
    "    variance_b=parameter_list[3]\n",
    "    beta_b0 = parameter_list[4]\n",
    "    beta_b1 = parameter_list[5]\n",
    "    prob_a = parameter_list[6]\n",
    "    prob_b = parameter_list[7]\n",
    "    \n",
    "    #w_a = Estep(parameter_list)[0]\n",
    "    #w_b = Estep(parameter_list)[1]\n",
    "    \n",
    "    #Update the function following the derived update rules:\n",
    "    \n",
    "    #Update the prior beliefs\n",
    "    prob_a = w_a.sum()/(w_a +w_b).sum()\n",
    "    prob_b = w_a.sum()/(w_a +w_b).sum()\n",
    "    #print('prob', prob_a,prob_b)\n",
    "    \n",
    "    #Update the betas for each subgroup\n",
    "    #Beta_0\n",
    "    \n",
    "    beta_a0 = ((df.y - beta_a1*df.x)*w_a).sum()/w_a.sum() \n",
    "    beta_b0 = ((df.y - beta_b1*df.x)*w_b).sum()/w_b.sum() \n",
    "    #print('beta0', beta_a0, beta_b0)\n",
    "    #beta_1\n",
    "    \n",
    "    beta_a1 = ((df.y - beta_a0)*w_a).sum()/(w_a*df.x).sum() \n",
    "    beta_b1 = ((df.y - beta_b0)*w_b).sum()/(w_b*df.x).sum() \n",
    "    #print('beta1', beta_a1, beta_b1)\n",
    "    \n",
    "    #Update the variance \n",
    "    #Define the residuals first\n",
    "    e_hat_a = df.y - beta_a0-beta_a1*df.x\n",
    "    e_hat_b = df.y - beta_b0-beta_b1*df.x\n",
    "    #print('ehat', e_hat_a, e_hat_b)\n",
    "    \n",
    "    #Define the variance \n",
    "    #print(w_a.sum())\n",
    "    variance_a = ((e_hat_a**2)*w_a).sum()/w_a.sum()\n",
    "    variance_b = ((e_hat_b**2)*w_b).sum()/w_b.sum()\n",
    "    #print('variance', variance_a)\n",
    "    \n",
    "    #print(variance_a, variance_b)\n",
    "    #Store the new parameters in a parameter_list\n",
    "    parameter_list = [beta_a0,beta_a1,variance_a,variance_b,beta_a0,beta_a1,beta_b0,beta_b1,prob_a,prob_b]\n",
    "    return parameter_list\n",
    "    "
   ]
  },
  {
   "cell_type": "code",
   "execution_count": 331,
   "metadata": {},
   "outputs": [
    {
     "data": {
      "text/plain": [
       "[3.5410912159372545,\n",
       " 1.0,\n",
       " 3.1572275722581415,\n",
       " 3.1572275722581415,\n",
       " 3.5410912159372545,\n",
       " 1.0,\n",
       " 3.5410912159372545,\n",
       " 1.0,\n",
       " 0.5,\n",
       " 0.5]"
      ]
     },
     "execution_count": 331,
     "metadata": {},
     "output_type": "execute_result"
    }
   ],
   "source": [
    "Mstep(w_a,w_b, parameter_list,df)"
   ]
  },
  {
   "cell_type": "markdown",
   "metadata": {},
   "source": [
    "## Defining the average likelihood function"
   ]
  },
  {
   "cell_type": "code",
   "execution_count": 332,
   "metadata": {},
   "outputs": [],
   "source": [
    "def get_avg_log_likelihood(w_a,w_b,df, parameter_list):\n",
    "    x = df.x\n",
    "    beta_a0=parameter_list[0]\n",
    "    beta_a1=parameter_list[1]\n",
    "    variance_a=parameter_list[2]\n",
    "    variance_b=parameter_list[3]\n",
    "    beta_b0 = parameter_list[4]\n",
    "    beta_b1 = parameter_list[5]\n",
    "    prob_a = parameter_list[6]\n",
    "    prob_b = parameter_list[7]   \n",
    "    \n",
    "    Q_function_a = -1/2*((w_a*((df.y-beta_a0-beta_a1*df.x)**2-math.log(variance_a))).sum())\n",
    "    Q_function_b = -1/2*((w_b*((df.y-beta_b0-beta_b1*df.x)**2-math.log(variance_b))).sum())\n",
    "    \n",
    "    #Q_function_a = -(1/2)*(((df.y-beta_a0-beta_a1*df.x)**2/variance_a -math.log(variance_a))*w_a).sum() + (math.log(prob_a)*w_a).sum()\n",
    "    #Q_function_b = -(1/2)*(((df.y-beta_b0-beta_b1*df.x)**2/variance_b -math.log(variance_b))*w_b).sum() + (math.log(prob_b)*w_b).sum()\n",
    "    \n",
    "    Q_function = Q_function_a + Q_function_b\n",
    "    \n",
    "    return Q_function"
   ]
  },
  {
   "cell_type": "code",
   "execution_count": 333,
   "metadata": {},
   "outputs": [],
   "source": [
    "def run_em(df, parameter_list):\n",
    "    avg_loglikelihoods = []\n",
    "    while True:\n",
    "        #Estimation step\n",
    "        w_a = Estep(parameter_list)[0] \n",
    "        w_b = Estep(parameter_list)[1]\n",
    "        \n",
    "        #Maximisation step:\n",
    "        parameter_list = Mstep(w_a,w_b,parameter_list,df) #Update the maximisation step\n",
    "        \n",
    "        #Evaluate the loglikelihood function\n",
    "        avg_loglikelihood = get_avg_log_likelihood(w_a,w_b,df, parameter_list)\n",
    "        avg_loglikelihoods.append(avg_loglikelihood)\n",
    "        if len(avg_loglikelihoods) > 2 and abs(avg_loglikelihoods[-1] - avg_loglikelihoods[-2]) < 0.001: #Define a stopping criterion\n",
    "            break\n",
    "        #parameter_list = M_step(x_unlabeled, params)\n",
    "    \n",
    "    return parameter_list, avg_loglikelihoods"
   ]
  },
  {
   "cell_type": "code",
   "execution_count": 334,
   "metadata": {},
   "outputs": [],
   "source": [
    "test = run_em(df, parameter_list)"
   ]
  },
  {
   "cell_type": "code",
   "execution_count": 337,
   "metadata": {},
   "outputs": [
    {
     "data": {
      "text/plain": [
       "([19.61873301457013,\n",
       "  1.0000000000000009,\n",
       "  102.26448046179353,\n",
       "  102.26448046179351,\n",
       "  19.61873301457013,\n",
       "  1.0000000000000009,\n",
       "  19.61873301457013,\n",
       "  1.0000000000000007,\n",
       "  0.9515004147296098,\n",
       "  0.9515004147296098],\n",
       " [-9.035408875281291,\n",
       "  -2373.742428243376,\n",
       "  -71854.05768605872,\n",
       "  -369704.398880684,\n",
       "  -509820.98687805654,\n",
       "  -520638.49243866623,\n",
       "  -520959.89971212926,\n",
       "  -520968.57477120537,\n",
       "  -520968.8079756332,\n",
       "  -520968.81424380763,\n",
       "  -520968.81441228575])"
      ]
     },
     "execution_count": 337,
     "metadata": {},
     "output_type": "execute_result"
    }
   ],
   "source": [
    "test"
   ]
  }
 ],
 "metadata": {
  "kernelspec": {
   "display_name": "Python 3",
   "language": "python",
   "name": "python3"
  },
  "language_info": {
   "codemirror_mode": {
    "name": "ipython",
    "version": 3
   },
   "file_extension": ".py",
   "mimetype": "text/x-python",
   "name": "python",
   "nbconvert_exporter": "python",
   "pygments_lexer": "ipython3",
   "version": "3.8.3"
  }
 },
 "nbformat": 4,
 "nbformat_minor": 4
}
