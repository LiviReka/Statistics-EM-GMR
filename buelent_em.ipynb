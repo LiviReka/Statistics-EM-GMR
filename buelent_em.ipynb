{
 "cells": [
  {
   "cell_type": "markdown",
   "metadata": {},
   "source": [
    "## Group project "
   ]
  },
  {
   "cell_type": "code",
   "execution_count": 23,
   "metadata": {},
   "outputs": [],
   "source": [
    "#Import relevant packages\n",
    "import pandas as pd\n",
    "import numpy as np\n",
    "import matplotlib.pyplot as plt\n",
    "import seaborn as sns\n",
    "import random\n",
    "#sns.set_theme(style=\"darkgrid\")\n",
    "random.seed(10)\n",
    "import math\n",
    "import scipy.stats"
   ]
  },
  {
   "cell_type": "markdown",
   "metadata": {},
   "source": [
    "## Generate the synthetic data set "
   ]
  },
  {
   "cell_type": "code",
   "execution_count": 24,
   "metadata": {},
   "outputs": [
    {
     "name": "stdout",
     "output_type": "stream",
     "text": [
      "Random bernoulli variable is assigned as 0.5714025946899135\n"
     ]
    },
    {
     "data": {
      "text/html": [
       "<div>\n",
       "<style scoped>\n",
       "    .dataframe tbody tr th:only-of-type {\n",
       "        vertical-align: middle;\n",
       "    }\n",
       "\n",
       "    .dataframe tbody tr th {\n",
       "        vertical-align: top;\n",
       "    }\n",
       "\n",
       "    .dataframe thead th {\n",
       "        text-align: right;\n",
       "    }\n",
       "</style>\n",
       "<table border=\"1\" class=\"dataframe\">\n",
       "  <thead>\n",
       "    <tr style=\"text-align: right;\">\n",
       "      <th></th>\n",
       "      <th>x</th>\n",
       "      <th>label</th>\n",
       "      <th>noise_a</th>\n",
       "      <th>noise_b</th>\n",
       "      <th>y</th>\n",
       "    </tr>\n",
       "  </thead>\n",
       "  <tbody>\n",
       "    <tr>\n",
       "      <th>0</th>\n",
       "      <td>4.129757</td>\n",
       "      <td>1</td>\n",
       "      <td>0.517107</td>\n",
       "      <td>-1.263168</td>\n",
       "      <td>25.255862</td>\n",
       "    </tr>\n",
       "    <tr>\n",
       "      <th>1</th>\n",
       "      <td>1.036179</td>\n",
       "      <td>0</td>\n",
       "      <td>-1.178729</td>\n",
       "      <td>-1.921947</td>\n",
       "      <td>3.929809</td>\n",
       "    </tr>\n",
       "    <tr>\n",
       "      <th>2</th>\n",
       "      <td>0.478335</td>\n",
       "      <td>0</td>\n",
       "      <td>0.789319</td>\n",
       "      <td>-0.699236</td>\n",
       "      <td>4.224323</td>\n",
       "    </tr>\n",
       "    <tr>\n",
       "      <th>3</th>\n",
       "      <td>6.715816</td>\n",
       "      <td>1</td>\n",
       "      <td>-0.571943</td>\n",
       "      <td>2.321507</td>\n",
       "      <td>39.184771</td>\n",
       "    </tr>\n",
       "    <tr>\n",
       "      <th>4</th>\n",
       "      <td>2.093723</td>\n",
       "      <td>1</td>\n",
       "      <td>-0.704976</td>\n",
       "      <td>2.396016</td>\n",
       "      <td>20.770909</td>\n",
       "    </tr>\n",
       "    <tr>\n",
       "      <th>...</th>\n",
       "      <td>...</td>\n",
       "      <td>...</td>\n",
       "      <td>...</td>\n",
       "      <td>...</td>\n",
       "      <td>...</td>\n",
       "    </tr>\n",
       "    <tr>\n",
       "      <th>995</th>\n",
       "      <td>6.383842</td>\n",
       "      <td>1</td>\n",
       "      <td>0.851083</td>\n",
       "      <td>-0.171366</td>\n",
       "      <td>35.364002</td>\n",
       "    </tr>\n",
       "    <tr>\n",
       "      <th>996</th>\n",
       "      <td>8.262191</td>\n",
       "      <td>1</td>\n",
       "      <td>-0.024822</td>\n",
       "      <td>8.502226</td>\n",
       "      <td>51.550991</td>\n",
       "    </tr>\n",
       "    <tr>\n",
       "      <th>997</th>\n",
       "      <td>9.046855</td>\n",
       "      <td>1</td>\n",
       "      <td>-0.921721</td>\n",
       "      <td>-2.029634</td>\n",
       "      <td>44.157786</td>\n",
       "    </tr>\n",
       "    <tr>\n",
       "      <th>998</th>\n",
       "      <td>5.891260</td>\n",
       "      <td>0</td>\n",
       "      <td>0.473776</td>\n",
       "      <td>-0.454986</td>\n",
       "      <td>20.147557</td>\n",
       "    </tr>\n",
       "    <tr>\n",
       "      <th>999</th>\n",
       "      <td>1.003457</td>\n",
       "      <td>1</td>\n",
       "      <td>0.006159</td>\n",
       "      <td>5.155375</td>\n",
       "      <td>19.169202</td>\n",
       "    </tr>\n",
       "  </tbody>\n",
       "</table>\n",
       "<p>1000 rows × 5 columns</p>\n",
       "</div>"
      ],
      "text/plain": [
       "            x  label   noise_a   noise_b          y\n",
       "0    4.129757      1  0.517107 -1.263168  25.255862\n",
       "1    1.036179      0 -1.178729 -1.921947   3.929809\n",
       "2    0.478335      0  0.789319 -0.699236   4.224323\n",
       "3    6.715816      1 -0.571943  2.321507  39.184771\n",
       "4    2.093723      1 -0.704976  2.396016  20.770909\n",
       "..        ...    ...       ...       ...        ...\n",
       "995  6.383842      1  0.851083 -0.171366  35.364002\n",
       "996  8.262191      1 -0.024822  8.502226  51.550991\n",
       "997  9.046855      1 -0.921721 -2.029634  44.157786\n",
       "998  5.891260      0  0.473776 -0.454986  20.147557\n",
       "999  1.003457      1  0.006159  5.155375  19.169202\n",
       "\n",
       "[1000 rows x 5 columns]"
      ]
     },
     "execution_count": 24,
     "metadata": {},
     "output_type": "execute_result"
    }
   ],
   "source": [
    "bernoulli = random.random()\n",
    "print(f'Random bernoulli variable is assigned as {bernoulli}')\n",
    "x = np.random.uniform(0, 10, 1000)\n",
    "label = np.random.binomial(1, bernoulli, 1000)\n",
    "noise_a = np.random.normal(0, 1, 1000) \n",
    "noise_b = np.random.normal(0, 3, 1000)\n",
    "d = {'x': x, 'label': label, 'noise_a': noise_a, 'noise_b': noise_b}\n",
    "df = pd.DataFrame(data=d)\n",
    "df.loc[df.label == 0, 'y'] = df.x * 3 + 2 + df.noise_a\n",
    "df.loc[df.label == 1, 'y'] = df.x * 4 + 10 + df.noise_b\n",
    "df"
   ]
  },
  {
   "cell_type": "markdown",
   "metadata": {},
   "source": [
    "## Plotting the data for a first overview "
   ]
  },
  {
   "cell_type": "code",
   "execution_count": 25,
   "metadata": {},
   "outputs": [
    {
     "data": {
      "text/plain": [
       "<matplotlib.axes._subplots.AxesSubplot at 0x7f2d3f7aa280>"
      ]
     },
     "execution_count": 25,
     "metadata": {},
     "output_type": "execute_result"
    },
    {
     "data": {
      "image/png": "[encoded data removed]",
      "text/plain": [
       "<Figure size 432x288 with 2 Axes>"
      ]
     },
     "metadata": {
      "needs_background": "light"
     },
     "output_type": "display_data"
    }
   ],
   "source": [
    "fig, ax =plt.subplots(1,2, sharey=True)\n",
    "sns.scatterplot(data=df[df.label == 0],x='x', y='y', alpha=0.3,ax=ax[0])\n",
    "sns.scatterplot(data=df[df.label == 1],x='x', y='y', alpha=0.3,ax=ax[1])\n"
   ]
  },
  {
   "cell_type": "code",
   "execution_count": 26,
   "metadata": {},
   "outputs": [
    {
     "data": {
      "text/plain": [
       "<matplotlib.axes._subplots.AxesSubplot at 0x7f2d3f71f850>"
      ]
     },
     "execution_count": 26,
     "metadata": {},
     "output_type": "execute_result"
    },
    {
     "data": {
      "image/png": "[encoded data removed]",
      "text/plain": [
       "<Figure size 432x288 with 1 Axes>"
      ]
     },
     "metadata": {
      "needs_background": "light"
     },
     "output_type": "display_data"
    }
   ],
   "source": [
    "sns.regplot(data=df[df.label == 0],x='x', y='y',scatter_kws={'alpha':0.1})\n",
    "sns.regplot(data=df[df.label == 1],x='x', y='y',scatter_kws={'alpha':0.1})\n"
   ]
  },
  {
   "cell_type": "code",
   "execution_count": 27,
   "metadata": {},
   "outputs": [
    {
     "data": {
      "text/plain": [
       "<matplotlib.axes._subplots.AxesSubplot at 0x7f2d3f6edd30>"
      ]
     },
     "execution_count": 27,
     "metadata": {},
     "output_type": "execute_result"
    },
    {
     "data": {
      "image/png": "[encoded data removed]",
      "text/plain": [
       "<Figure size 432x288 with 1 Axes>"
      ]
     },
     "metadata": {
      "needs_background": "light"
     },
     "output_type": "display_data"
    }
   ],
   "source": [
    "sns.kdeplot(data=df.x)"
   ]
  },
  {
   "cell_type": "markdown",
   "metadata": {},
   "source": [
    "# Second part: mathematical background "
   ]
  },
  {
   "cell_type": "markdown",
   "metadata": {},
   "source": [
    "To Do !"
   ]
  },
  {
   "cell_type": "markdown",
   "metadata": {},
   "source": [
    "# Third part: Implementation of the EM algorithm "
   ]
  },
  {
   "cell_type": "markdown",
   "metadata": {},
   "source": [
    "## Initialization "
   ]
  },
  {
   "cell_type": "code",
   "execution_count": 114,
   "metadata": {},
   "outputs": [
    {
     "data": {
      "text/plain": [
       "[0.5, 1, 1, 3, 0.5, 1, 0.5, 0.5]"
      ]
     },
     "execution_count": 114,
     "metadata": {},
     "output_type": "execute_result"
    }
   ],
   "source": [
    "# initialization of the parameter\n",
    "variance_a = random.randint(1, 3) #needs to be >= 0\n",
    "variance_b = random.randint(1, 3) #needs to be >= 0\n",
    "\n",
    "beta_a0 = beta_b0 = 0.5\n",
    "beta_a1 = beta_b1 = 1\n",
    "prob_a = 0.50\n",
    "prob_b = 0.50\n",
    "\n",
    "parameter_list = [beta_a0,beta_a1,variance_a,variance_b,beta_b0,beta_b1,prob_a,prob_b]\n",
    "parameter_list"
   ]
  },
  {
   "cell_type": "markdown",
   "metadata": {},
   "source": [
    "## Setting the weights "
   ]
  },
  {
   "cell_type": "code",
   "execution_count": 115,
   "metadata": {},
   "outputs": [
    {
     "name": "stdout",
     "output_type": "stream",
     "text": [
      "8.2715747595679e-94 1.8502148082134346e-32 1.8502148082134346e-32\n"
     ]
    }
   ],
   "source": [
    "w_a_numerator  = prob_a * (1/np.sqrt(2*np.pi*variance_a)) * np.exp((-(1/(2*variance_a)) * (df.y - beta_a0 - beta_a1*df.x)**2))\n",
    "w_b_numerator = prob_b * (1/np.sqrt(2*np.pi*variance_b)) * np.exp((-(1/(2*variance_b)) * (df.y - beta_b0 - beta_b1*df.x)**2))\n",
    "\n",
    "w_sum = w_a_numerator + w_b_numerator\n",
    "print(w_a_numerator[0], w_b_numerator[0],w_sum[0])\n",
    "w_a = w_a_numerator/w_sum\n",
    "w_b = w_b_numerator/w_sum"
   ]
  },
  {
   "cell_type": "code",
   "execution_count": 116,
   "metadata": {},
   "outputs": [
    {
     "data": {
      "text/html": [
       "<div>\n",
       "<style scoped>\n",
       "    .dataframe tbody tr th:only-of-type {\n",
       "        vertical-align: middle;\n",
       "    }\n",
       "\n",
       "    .dataframe tbody tr th {\n",
       "        vertical-align: top;\n",
       "    }\n",
       "\n",
       "    .dataframe thead th {\n",
       "        text-align: right;\n",
       "    }\n",
       "</style>\n",
       "<table border=\"1\" class=\"dataframe\">\n",
       "  <thead>\n",
       "    <tr style=\"text-align: right;\">\n",
       "      <th></th>\n",
       "      <th>w_a</th>\n",
       "      <th>w_b</th>\n",
       "    </tr>\n",
       "  </thead>\n",
       "  <tbody>\n",
       "    <tr>\n",
       "      <th>0</th>\n",
       "      <td>4.470602e-62</td>\n",
       "      <td>1.000000</td>\n",
       "    </tr>\n",
       "    <tr>\n",
       "      <th>1</th>\n",
       "      <td>2.041566e-01</td>\n",
       "      <td>0.795843</td>\n",
       "    </tr>\n",
       "    <tr>\n",
       "      <th>2</th>\n",
       "      <td>4.913312e-02</td>\n",
       "      <td>0.950867</td>\n",
       "    </tr>\n",
       "    <tr>\n",
       "      <th>3</th>\n",
       "      <td>1.935849e-148</td>\n",
       "      <td>1.000000</td>\n",
       "    </tr>\n",
       "    <tr>\n",
       "      <th>4</th>\n",
       "      <td>2.551527e-48</td>\n",
       "      <td>1.000000</td>\n",
       "    </tr>\n",
       "  </tbody>\n",
       "</table>\n",
       "</div>"
      ],
      "text/plain": [
       "             w_a       w_b\n",
       "0   4.470602e-62  1.000000\n",
       "1   2.041566e-01  0.795843\n",
       "2   4.913312e-02  0.950867\n",
       "3  1.935849e-148  1.000000\n",
       "4   2.551527e-48  1.000000"
      ]
     },
     "execution_count": 116,
     "metadata": {},
     "output_type": "execute_result"
    }
   ],
   "source": [
    "w_data = pd.DataFrame(data = {'w_a':w_a,'w_b':w_b})\n",
    "w_data.head()"
   ]
  },
  {
   "cell_type": "markdown",
   "metadata": {},
   "source": [
    "## Expectation step"
   ]
  },
  {
   "cell_type": "code",
   "execution_count": 117,
   "metadata": {},
   "outputs": [
    {
     "data": {
      "text/plain": [
       "[0.5, 1, 1, 3, 0.5, 1, 0.5, 0.5]"
      ]
     },
     "execution_count": 117,
     "metadata": {},
     "output_type": "execute_result"
    }
   ],
   "source": [
    "#parameter_list = [beta_a0,beta_a1,variance_a,variance_b,beta_b0,beta_b1,prob_a,prob_b]\n",
    "parameter_list"
   ]
  },
  {
   "cell_type": "code",
   "execution_count": 118,
   "metadata": {},
   "outputs": [],
   "source": [
    "##Expectation step\n",
    "def Estep(parameter_list):\n",
    "    \n",
    "    beta_a0=parameter_list[0]\n",
    "    beta_a1=parameter_list[1]\n",
    "    variance_a=parameter_list[2]\n",
    "    variance_b=parameter_list[3]\n",
    "    beta_b0 = parameter_list[4]\n",
    "    beta_b1 = parameter_list[5]\n",
    "    prob_a = parameter_list[6]\n",
    "    prob_b = parameter_list[7]\n",
    "    \n",
    "    #Set the values for the algorithm\n",
    "    \n",
    "    w_a_numerator  = prob_a * (1/np.sqrt(2*np.pi*variance_a)) * np.exp((-(1/(2*variance_a)) * (df.y - beta_a0 - beta_a1*df.x)**2))\n",
    "    w_b_numerator = prob_b * (1/np.sqrt(2*np.pi*variance_b)) * np.exp((-(1/(2*variance_b)) * (df.y - beta_b0 - beta_b1*df.x)**2))\n",
    "\n",
    "    w_sum = w_a_numerator + w_b_numerator\n",
    "\n",
    "    w_a = w_a_numerator/w_sum\n",
    "    w_b = w_b_numerator/w_sum\n",
    "    \n",
    "    return(w_a,w_b)\n"
   ]
  },
  {
   "cell_type": "markdown",
   "metadata": {},
   "source": [
    "## Maximisation step"
   ]
  },
  {
   "cell_type": "code",
   "execution_count": 119,
   "metadata": {},
   "outputs": [
    {
     "data": {
      "text/plain": [
       "[0.5, 1, 1, 3, 0.5, 1, 0.5, 0.5]"
      ]
     },
     "execution_count": 119,
     "metadata": {},
     "output_type": "execute_result"
    }
   ],
   "source": [
    "parameter_list"
   ]
  },
  {
   "cell_type": "code",
   "execution_count": 120,
   "metadata": {},
   "outputs": [],
   "source": [
    "## Maximisation step:\n",
    "def Mstep(w_a, w_b, parameter_list, df):\n",
    "    \n",
    "    #parameter_list = [beta_a0,beta_a1,variance_a,variance_b,beta_b0,beta_b1,prob_a,prob_b]\n",
    "    beta_a0=parameter_list[0]\n",
    "    beta_a1=parameter_list[1]\n",
    "    variance_a=parameter_list[2]\n",
    "    variance_b=parameter_list[3]\n",
    "    beta_b0 = parameter_list[4]\n",
    "    beta_b1 = parameter_list[5]\n",
    "    prob_a = parameter_list[6]\n",
    "    prob_b = parameter_list[7]\n",
    "       \n",
    "    #Update the function following the derived update rules:\n",
    "    \n",
    "    #Update the prior beliefs\n",
    "    prob_a = w_a.sum()/(w_a +w_b).sum()\n",
    "    prob_b = w_b.sum()/(w_a +w_b).sum()\n",
    "\n",
    "    \n",
    "    #Update the betas for each subgroup\n",
    "    #Beta_0\n",
    "    \n",
    "    beta_a0 = ((df.y - beta_a1*df.x)*w_a).sum()/w_a.sum() \n",
    "    beta_b0 = ((df.y - beta_b1*df.x)*w_b).sum()/w_b.sum() \n",
    "  \n",
    "    \n",
    "    beta_a1 = ((df.y - beta_a0)*w_a).sum()/(w_a*df.x).sum() \n",
    "    beta_b1 = ((df.y - beta_b0)*w_b).sum()/(w_b*df.x).sum() \n",
    "    #print('beta1', beta_a1, beta_b1)\n",
    "    \n",
    "    #Update the variance \n",
    "    #Define the residuals first\n",
    "    e_hat_a = df.y - beta_a0-beta_a1*df.x\n",
    "    e_hat_b = df.y - beta_b0-beta_b1*df.x\n",
    "    #print('ehat', e_hat_a, e_hat_b)\n",
    "    \n",
    "    #Define the variance \n",
    "\n",
    "    variance_a = ((e_hat_a**2)*w_a).sum()/w_a.sum()\n",
    "    variance_b = ((e_hat_b**2)*w_b).sum()/w_b.sum()\n",
    "\n",
    "    #Store the new parameters in a parameter_list\n",
    "    parameter_list = [beta_a0,beta_a1,variance_a,variance_b,beta_b0,beta_b1,prob_a,prob_b]\n",
    "    return parameter_list\n",
    "    "
   ]
  },
  {
   "cell_type": "code",
   "execution_count": 121,
   "metadata": {},
   "outputs": [
    {
     "data": {
      "text/plain": [
       "[2.09241015839386,\n",
       " 1.0000000000000009,\n",
       " 1.0254701382197136,\n",
       " 103.45435889682614,\n",
       " 19.992665811569857,\n",
       " 1.0000000000000004,\n",
       " 0.011766774193260792,\n",
       " 0.9882332258067392]"
      ]
     },
     "execution_count": 121,
     "metadata": {},
     "output_type": "execute_result"
    }
   ],
   "source": [
    "Mstep(w_a,w_b, parameter_list,df)"
   ]
  },
  {
   "cell_type": "markdown",
   "metadata": {},
   "source": [
    "## Defining the average likelihood function"
   ]
  },
  {
   "cell_type": "code",
   "execution_count": 122,
   "metadata": {},
   "outputs": [],
   "source": [
    "def get_avg_log_likelihood(w_a,w_b,df, parameter_list):\n",
    "    beta_a0=parameter_list[0]\n",
    "    beta_a1=parameter_list[1]\n",
    "    variance_a=parameter_list[2]\n",
    "    variance_b=parameter_list[3]\n",
    "    beta_b0 = parameter_list[4]\n",
    "    beta_b1 = parameter_list[5]\n",
    "    prob_a = parameter_list[6]\n",
    "    prob_b = parameter_list[7]   \n",
    "    \n",
    "    Q_function_a = -1/2*((w_a*((df.y-beta_a0-beta_a1*df.x)**2-math.log(variance_a))).sum())\n",
    "    Q_function_b = -1/2*((w_b*((df.y-beta_b0-beta_b1*df.x)**2-math.log(variance_b))).sum())\n",
    "    \n",
    "    Q_function = Q_function_a + Q_function_b\n",
    "    \n",
    "    return Q_function"
   ]
  },
  {
   "cell_type": "code",
   "execution_count": 130,
   "metadata": {},
   "outputs": [],
   "source": [
    "def run_em(df, parameter_list):\n",
    "    avg_loglikelihoods = []\n",
    "    while True: \n",
    "        #Estimation step\n",
    "        w_a,w_b = Estep(parameter_list) \n",
    "        \n",
    "        #Maximisation step:\n",
    "        parameter_list = Mstep(w_a,w_b,parameter_list,df) #Update the maximisation step\n",
    "        \n",
    "        #Evaluate the loglikelihood function\n",
    "        avg_loglikelihood = get_avg_log_likelihood(w_a,w_b,df, parameter_list)\n",
    "        avg_loglikelihoods.append(avg_loglikelihood)\n",
    "        slope = 1/avg_loglikelihood\n",
    "        if len(avg_loglikelihoods)>2 and (avg_loglikelihoods[-1] - avg_loglikelihoods[-2]) < 0:\n",
    "            break\n",
    "        if len(avg_loglikelihoods) > 2 and abs(avg_loglikelihoods[-1] - avg_loglikelihoods[-2]) < 0.0001: #Define a stopping criterion\n",
    "            break\n",
    "    \n",
    "    return parameter_list, avg_loglikelihoods"
   ]
  },
  {
   "cell_type": "code",
   "execution_count": 131,
   "metadata": {},
   "outputs": [],
   "source": [
    "test = run_em(df, parameter_list)"
   ]
  },
  {
   "cell_type": "code",
   "execution_count": 132,
   "metadata": {},
   "outputs": [
    {
     "data": {
      "text/plain": [
       "([14.758802099408978,\n",
       "  1.000000000000001,\n",
       "  44.92977325088934,\n",
       "  30.283435041726776,\n",
       "  32.748755988101315,\n",
       "  0.999999999999995,\n",
       "  0.7207755241081688,\n",
       "  0.27922447589183114],\n",
       " [-48832.131203295554,\n",
       "  -49021.105110574776,\n",
       "  -48837.69098691394,\n",
       "  -48533.204737467546,\n",
       "  -48171.641018569484,\n",
       "  -47792.023766744605,\n",
       "  -47421.44161096598,\n",
       "  -47072.62392978952,\n",
       "  -46745.59238278538,\n",
       "  -46433.94775226167,\n",
       "  -46130.90561697636,\n",
       "  -45832.581723477575,\n",
       "  -45538.99285679441,\n",
       "  -45253.63887589225,\n",
       "  -44982.02975832383,\n",
       "  -44729.700981219976,\n",
       "  -44500.60280501386,\n",
       "  -44296.44009585912,\n",
       "  -44116.88280455915,\n",
       "  -43960.205828853075,\n",
       "  -43823.96061140861,\n",
       "  -43705.48264273988,\n",
       "  -43602.201626299604,\n",
       "  -43511.79597086394,\n",
       "  -43432.2475249139,\n",
       "  -43361.84129455057,\n",
       "  -43299.13913770357,\n",
       "  -43242.94394162934,\n",
       "  -43192.26276199811,\n",
       "  -43146.27280595384,\n",
       "  -43104.2917099083,\n",
       "  -43065.75236009044,\n",
       "  -43030.18195630852,\n",
       "  -42997.184806453755,\n",
       "  -42966.42829075812,\n",
       "  -42937.631462728044,\n",
       "  -42910.55581321741,\n",
       "  -42884.99779283273,\n",
       "  -42860.78275489374,\n",
       "  -42837.7600416466,\n",
       "  -42815.79898861707,\n",
       "  -42794.78566578,\n",
       "  -42774.620210261055,\n",
       "  -42755.21463455032,\n",
       "  -42736.491017739994,\n",
       "  -42718.38000609509,\n",
       "  -42700.81956421008,\n",
       "  -42683.753929852035,\n",
       "  -42667.132734969135,\n",
       "  -42650.9102627658,\n",
       "  -42635.04481662173,\n",
       "  -42619.49818129219,\n",
       "  -42604.235160528864,\n",
       "  -42589.22317820894,\n",
       "  -42574.43193241443,\n",
       "  -42559.83309379033,\n",
       "  -42545.40004102678,\n",
       "  -42531.10762753217,\n",
       "  -42516.93197435395,\n",
       "  -42502.85028520769,\n",
       "  -42488.84068012743,\n",
       "  -42474.882044786544,\n",
       "  -42460.953892974925,\n",
       "  -42447.03624007796,\n",
       "  -42433.10948569916,\n",
       "  -42419.15430381135,\n",
       "  -42405.15153902362,\n",
       "  -42391.082107717084,\n",
       "  -42376.92690294043,\n",
       "  -42362.66670207019,\n",
       "  -42348.28207633473,\n",
       "  -42333.753301380224,\n",
       "  -42319.060268120804,\n",
       "  -42304.182393171475,\n",
       "  -42289.09852820812,\n",
       "  -42273.78686763993,\n",
       "  -42258.224854017455,\n",
       "  -42242.38908063382,\n",
       "  -42226.255190812946,\n",
       "  -42209.79777341824,\n",
       "  -42192.99025415817,\n",
       "  -42175.80478231981,\n",
       "  -42158.212112626265,\n",
       "  -42140.18148199585,\n",
       "  -42121.68048108438,\n",
       "  -42102.67492062184,\n",
       "  -42083.128692719954,\n",
       "  -42063.00362753155,\n",
       "  -42042.259345900995,\n",
       "  -42020.85310896187,\n",
       "  -41998.73966602998,\n",
       "  -41975.871102616686,\n",
       "  -41952.196690965764,\n",
       "  -41927.66274620925,\n",
       "  -41902.21249206145,\n",
       "  -41875.78594093593,\n",
       "  -41848.319794491224,\n",
       "  -41819.74737189142,\n",
       "  -41789.99857450482,\n",
       "  -41758.99989734261,\n",
       "  -41726.67449922664,\n",
       "  -41692.942345412295,\n",
       "  -41657.72043809224,\n",
       "  -41620.92315173754,\n",
       "  -41582.46269142322,\n",
       "  -41542.24969290349,\n",
       "  -41500.193982969,\n",
       "  -41456.20551720087,\n",
       "  -41410.195509268866,\n",
       "  -41362.0777610327,\n",
       "  -41311.77019556069,\n",
       "  -41259.19658555387,\n",
       "  -41204.288457503215,\n",
       "  -41146.98713744269,\n",
       "  -41087.24588796843,\n",
       "  -41025.03206927997,\n",
       "  -40960.3292407938,\n",
       "  -40893.13910619414,\n",
       "  -40823.48319564697,\n",
       "  -40751.40417631514,\n",
       "  -40676.966687927576,\n",
       "  -40600.257614926915,\n",
       "  -40521.385730598064,\n",
       "  -40440.48068032795,\n",
       "  -40357.69130835377,\n",
       "  -40273.183371670835,\n",
       "  -40187.13672233482,\n",
       "  -40099.742071404566,\n",
       "  -40011.1974710578,\n",
       "  -39921.70466390049,\n",
       "  -39831.46544946278,\n",
       "  -39740.67820799284,\n",
       "  -39649.53470275026,\n",
       "  -39558.21725667102,\n",
       "  -39466.8963704835,\n",
       "  -39375.72881995853,\n",
       "  -39284.85624242853,\n",
       "  -39194.404198825425,\n",
       "  -39104.48167838624,\n",
       "  -39015.180999309494,\n",
       "  -38926.578049914366,\n",
       "  -38838.732810747635,\n",
       "  -38751.69009783988,\n",
       "  -38665.480470061564,\n",
       "  -38580.12124838985,\n",
       "  -38495.6176010689,\n",
       "  -38411.96365544315,\n",
       "  -38329.14360411606,\n",
       "  -38247.132779630134,\n",
       "  -38165.89867779064,\n",
       "  -38085.40191488861,\n",
       "  -38005.59710832369,\n",
       "  -37926.43367344838,\n",
       "  -37847.85653186327,\n",
       "  -37769.806727919684,\n",
       "  -37692.22195088335,\n",
       "  -37615.0369601351,\n",
       "  -37538.18390999763,\n",
       "  -37461.592569349166,\n",
       "  -37385.19042920652,\n",
       "  -37308.9026890458,\n",
       "  -37232.65210994997,\n",
       "  -37156.358719967524,\n",
       "  -37079.9393546854,\n",
       "  -37003.30701444696,\n",
       "  -36926.370019533766,\n",
       "  -36849.03094681699,\n",
       "  -36771.18533688599,\n",
       "  -36692.720170620574,\n",
       "  -36613.51212974541,\n",
       "  -36533.425678052845,\n",
       "  -36452.311029171135,\n",
       "  -36370.002102567,\n",
       "  -36286.31461013225,\n",
       "  -36201.04445769551,\n",
       "  -36113.96668361183,\n",
       "  -36024.83518287121,\n",
       "  -35933.38347143718,\n",
       "  -35839.32672348543,\n",
       "  -35742.36525769137,\n",
       "  -35642.18955584899,\n",
       "  -35538.48677220682,\n",
       "  -35430.94854633159,\n",
       "  -35319.27978369499,\n",
       "  -35203.20793789161,\n",
       "  -35082.49223750269,\n",
       "  -34956.93226538332,\n",
       "  -34826.3753262723,\n",
       "  -34690.72212739043,\n",
       "  -34549.930433567686,\n",
       "  -34404.01652388335,\n",
       "  -34253.05444844782,\n",
       "  -34097.17324090443,\n",
       "  -33936.552368451725,\n",
       "  -33771.41578732469,\n",
       "  -33602.02501524235,\n",
       "  -33428.67163660326,\n",
       "  -33251.66962840516,\n",
       "  -33071.347844149626,\n",
       "  -32888.04292877549,\n",
       "  -32702.092868349944,\n",
       "  -32513.83131053517,\n",
       "  -32323.582730481205,\n",
       "  -32131.658464646185,\n",
       "  -31938.353593398366,\n",
       "  -31743.944622178456,\n",
       "  -31548.687889727706,\n",
       "  -31352.818619142567,\n",
       "  -31156.550521790734,\n",
       "  -30960.075863869846,\n",
       "  -30763.565909156838,\n",
       "  -30567.171658005034,\n",
       "  -30371.024810828036,\n",
       "  -30175.23889331422,\n",
       "  -29979.910489795995,\n",
       "  -29785.120540087748,\n",
       "  -29590.935663394175,\n",
       "  -29397.409480384722,\n",
       "  -29204.583911137142,\n",
       "  -29012.490432347353,\n",
       "  -28821.151282009712,\n",
       "  -28630.580603748724,\n",
       "  -28440.78552620648,\n",
       "  -28251.767175445508,\n",
       "  -28063.52162030334,\n",
       "  -27876.040752117016,\n",
       "  -27689.31310130417,\n",
       "  -27503.324594013047,\n",
       "  -27318.059252500927,\n",
       "  -27133.499843124562,\n",
       "  -26949.628475873415,\n",
       "  -26766.427159286763,\n",
       "  -26583.87831440233,\n",
       "  -26401.96525111262,\n",
       "  -26220.672609979898,\n",
       "  -26039.986772197783,\n",
       "  -25859.896240003247,\n",
       "  -25680.39198944925,\n",
       "  -25501.46779705613,\n",
       "  -25323.120541478722,\n",
       "  -25145.35048096496,\n",
       "  -24968.16150704825,\n",
       "  -24791.561374618992,\n",
       "  -24615.561908268595,\n",
       "  -24440.17918460136,\n",
       "  -24265.433690074202,\n",
       "  -24091.350453862644,\n",
       "  -23917.95915527257,\n",
       "  -23745.29420533299,\n",
       "  -23573.394802425628,\n",
       "  -23402.304962144124,\n",
       "  -23232.073522039966,\n",
       "  -23062.754122515573,\n",
       "  -22894.405165877688,\n",
       "  -22727.089756478643,\n",
       "  -22560.875625959357,\n",
       "  -22395.835048880333,\n",
       "  -22232.04475549858,\n",
       "  -22069.58585013658,\n",
       "  -21908.54374551639,\n",
       "  -21749.00812562459,\n",
       "  -21591.07295216876,\n",
       "  -21434.83653253042,\n",
       "  -21280.401670374158,\n",
       "  -21127.875923814616,\n",
       "  -20977.37200036789,\n",
       "  -20829.00832293622,\n",
       "  -20682.90980692552,\n",
       "  -20539.208895416297,\n",
       "  -20398.046907237425,\n",
       "  -20259.575761933243,\n",
       "  -20123.960155991903,\n",
       "  -19991.380276173964,\n",
       "  -19862.035147900875,\n",
       "  -19736.1467284659,\n",
       "  -19613.96486448437,\n",
       "  -19495.773237286307,\n",
       "  -19381.896413493203,\n",
       "  -19272.70809216857,\n",
       "  -19168.640581295516,\n",
       "  -19070.195424933518,\n",
       "  -18977.95490975198,\n",
       "  -18892.593867526404,\n",
       "  -18814.89071193714,\n",
       "  -18745.735955608325,\n",
       "  -18686.135516062837,\n",
       "  -18637.20496187268,\n",
       "  -18600.14961782242,\n",
       "  -18576.224495962277,\n",
       "  -18566.668001395225,\n",
       "  -18572.60523374552])"
      ]
     },
     "execution_count": 132,
     "metadata": {},
     "output_type": "execute_result"
    }
   ],
   "source": [
    "test"
   ]
  },
  {
   "cell_type": "markdown",
   "metadata": {},
   "source": [
    "## Plotting the iterations "
   ]
  },
  {
   "cell_type": "code",
   "execution_count": 126,
   "metadata": {},
   "outputs": [],
   "source": [
    "loglikelihoods = test[1]\n",
    "iterations = np.arange(0,len(loglikelihoods),1)\n",
    "data_log = pd.DataFrame(data={'logs': loglikelihoods, 'iterations': iterations})"
   ]
  },
  {
   "cell_type": "code",
   "execution_count": 127,
   "metadata": {},
   "outputs": [
    {
     "data": {
      "text/html": [
       "<div>\n",
       "<style scoped>\n",
       "    .dataframe tbody tr th:only-of-type {\n",
       "        vertical-align: middle;\n",
       "    }\n",
       "\n",
       "    .dataframe tbody tr th {\n",
       "        vertical-align: top;\n",
       "    }\n",
       "\n",
       "    .dataframe thead th {\n",
       "        text-align: right;\n",
       "    }\n",
       "</style>\n",
       "<table border=\"1\" class=\"dataframe\">\n",
       "  <thead>\n",
       "    <tr style=\"text-align: right;\">\n",
       "      <th></th>\n",
       "      <th>logs</th>\n",
       "      <th>iterations</th>\n",
       "    </tr>\n",
       "  </thead>\n",
       "  <tbody>\n",
       "    <tr>\n",
       "      <th>0</th>\n",
       "      <td>-48832.131203</td>\n",
       "      <td>0</td>\n",
       "    </tr>\n",
       "    <tr>\n",
       "      <th>1</th>\n",
       "      <td>-49021.105111</td>\n",
       "      <td>1</td>\n",
       "    </tr>\n",
       "    <tr>\n",
       "      <th>2</th>\n",
       "      <td>-48837.690987</td>\n",
       "      <td>2</td>\n",
       "    </tr>\n",
       "    <tr>\n",
       "      <th>3</th>\n",
       "      <td>-48533.204737</td>\n",
       "      <td>3</td>\n",
       "    </tr>\n",
       "    <tr>\n",
       "      <th>4</th>\n",
       "      <td>-48171.641019</td>\n",
       "      <td>4</td>\n",
       "    </tr>\n",
       "    <tr>\n",
       "      <th>...</th>\n",
       "      <td>...</td>\n",
       "      <td>...</td>\n",
       "    </tr>\n",
       "    <tr>\n",
       "      <th>286</th>\n",
       "      <td>-18637.204962</td>\n",
       "      <td>286</td>\n",
       "    </tr>\n",
       "    <tr>\n",
       "      <th>287</th>\n",
       "      <td>-18600.149618</td>\n",
       "      <td>287</td>\n",
       "    </tr>\n",
       "    <tr>\n",
       "      <th>288</th>\n",
       "      <td>-18576.224496</td>\n",
       "      <td>288</td>\n",
       "    </tr>\n",
       "    <tr>\n",
       "      <th>289</th>\n",
       "      <td>-18566.668001</td>\n",
       "      <td>289</td>\n",
       "    </tr>\n",
       "    <tr>\n",
       "      <th>290</th>\n",
       "      <td>-18572.605234</td>\n",
       "      <td>290</td>\n",
       "    </tr>\n",
       "  </tbody>\n",
       "</table>\n",
       "<p>291 rows × 2 columns</p>\n",
       "</div>"
      ],
      "text/plain": [
       "             logs  iterations\n",
       "0   -48832.131203           0\n",
       "1   -49021.105111           1\n",
       "2   -48837.690987           2\n",
       "3   -48533.204737           3\n",
       "4   -48171.641019           4\n",
       "..            ...         ...\n",
       "286 -18637.204962         286\n",
       "287 -18600.149618         287\n",
       "288 -18576.224496         288\n",
       "289 -18566.668001         289\n",
       "290 -18572.605234         290\n",
       "\n",
       "[291 rows x 2 columns]"
      ]
     },
     "execution_count": 127,
     "metadata": {},
     "output_type": "execute_result"
    }
   ],
   "source": [
    "data_log"
   ]
  },
  {
   "cell_type": "code",
   "execution_count": 128,
   "metadata": {},
   "outputs": [
    {
     "data": {
      "text/plain": [
       "<matplotlib.axes._subplots.AxesSubplot at 0x7f2d3f42c640>"
      ]
     },
     "execution_count": 128,
     "metadata": {},
     "output_type": "execute_result"
    },
    {
     "data": {
      "image/png": "[encoded data removed]",
      "text/plain": [
       "<Figure size 432x288 with 1 Axes>"
      ]
     },
     "metadata": {
      "needs_background": "light"
     },
     "output_type": "display_data"
    }
   ],
   "source": [
    "sns.scatterplot(x = 'iterations', y = 'logs', data = data_log)"
   ]
  }
 ],
 "metadata": {
  "kernelspec": {
   "display_name": "Python 3",
   "language": "python",
   "name": "python3"
  },
  "language_info": {
   "codemirror_mode": {
    "name": "ipython",
    "version": 3
   },
   "file_extension": ".py",
   "mimetype": "text/x-python",
   "name": "python",
   "nbconvert_exporter": "python",
   "pygments_lexer": "ipython3",
   "version": "3.8.3"
  }
 },
 "nbformat": 4,
 "nbformat_minor": 4
}
