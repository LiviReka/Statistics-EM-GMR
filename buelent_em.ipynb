{
 "cells": [
  {
   "cell_type": "markdown",
   "metadata": {},
   "source": [
    "## Group project "
   ]
  },
  {
   "cell_type": "code",
   "execution_count": 34,
   "metadata": {},
   "outputs": [],
   "source": [
    "#Import relevant packages\n",
    "import pandas as pd\n",
    "import numpy as np\n",
    "import matplotlib.pyplot as plt\n",
    "import seaborn as sns\n",
    "import random\n",
    "#sns.set_theme(style=\"darkgrid\")\n",
    "random.seed(10)\n",
    "import math\n",
    "import scipy.stats"
   ]
  },
  {
   "cell_type": "markdown",
   "metadata": {},
   "source": [
    "## Generate the synthetic data set "
   ]
  },
  {
   "cell_type": "code",
   "execution_count": 52,
   "metadata": {},
   "outputs": [
    {
     "name": "stdout",
     "output_type": "stream",
     "text": [
      "Random bernoulli variable is assigned as 0.5780913011344704\n"
     ]
    },
    {
     "data": {
      "text/html": [
       "<div>\n",
       "<style scoped>\n",
       "    .dataframe tbody tr th:only-of-type {\n",
       "        vertical-align: middle;\n",
       "    }\n",
       "\n",
       "    .dataframe tbody tr th {\n",
       "        vertical-align: top;\n",
       "    }\n",
       "\n",
       "    .dataframe thead th {\n",
       "        text-align: right;\n",
       "    }\n",
       "</style>\n",
       "<table border=\"1\" class=\"dataframe\">\n",
       "  <thead>\n",
       "    <tr style=\"text-align: right;\">\n",
       "      <th></th>\n",
       "      <th>x</th>\n",
       "      <th>label</th>\n",
       "      <th>noise_a</th>\n",
       "      <th>noise_b</th>\n",
       "      <th>y</th>\n",
       "    </tr>\n",
       "  </thead>\n",
       "  <tbody>\n",
       "    <tr>\n",
       "      <th>0</th>\n",
       "      <td>2.045004</td>\n",
       "      <td>1</td>\n",
       "      <td>1.408898</td>\n",
       "      <td>2.313349</td>\n",
       "      <td>14.493366</td>\n",
       "    </tr>\n",
       "    <tr>\n",
       "      <th>1</th>\n",
       "      <td>3.994646</td>\n",
       "      <td>0</td>\n",
       "      <td>-1.808362</td>\n",
       "      <td>2.413133</td>\n",
       "      <td>12.175577</td>\n",
       "    </tr>\n",
       "    <tr>\n",
       "      <th>2</th>\n",
       "      <td>4.986221</td>\n",
       "      <td>1</td>\n",
       "      <td>-0.821638</td>\n",
       "      <td>-3.816587</td>\n",
       "      <td>20.128298</td>\n",
       "    </tr>\n",
       "    <tr>\n",
       "      <th>3</th>\n",
       "      <td>4.492704</td>\n",
       "      <td>1</td>\n",
       "      <td>-0.409213</td>\n",
       "      <td>0.692064</td>\n",
       "      <td>22.662879</td>\n",
       "    </tr>\n",
       "    <tr>\n",
       "      <th>4</th>\n",
       "      <td>7.655811</td>\n",
       "      <td>1</td>\n",
       "      <td>0.025848</td>\n",
       "      <td>-2.680340</td>\n",
       "      <td>31.942902</td>\n",
       "    </tr>\n",
       "    <tr>\n",
       "      <th>...</th>\n",
       "      <td>...</td>\n",
       "      <td>...</td>\n",
       "      <td>...</td>\n",
       "      <td>...</td>\n",
       "      <td>...</td>\n",
       "    </tr>\n",
       "    <tr>\n",
       "      <th>995</th>\n",
       "      <td>0.328510</td>\n",
       "      <td>0</td>\n",
       "      <td>0.050834</td>\n",
       "      <td>7.021946</td>\n",
       "      <td>3.036365</td>\n",
       "    </tr>\n",
       "    <tr>\n",
       "      <th>996</th>\n",
       "      <td>2.766685</td>\n",
       "      <td>1</td>\n",
       "      <td>-1.198816</td>\n",
       "      <td>-0.932354</td>\n",
       "      <td>14.134387</td>\n",
       "    </tr>\n",
       "    <tr>\n",
       "      <th>997</th>\n",
       "      <td>6.494023</td>\n",
       "      <td>0</td>\n",
       "      <td>0.069957</td>\n",
       "      <td>2.088417</td>\n",
       "      <td>21.552025</td>\n",
       "    </tr>\n",
       "    <tr>\n",
       "      <th>998</th>\n",
       "      <td>8.979134</td>\n",
       "      <td>0</td>\n",
       "      <td>-0.041950</td>\n",
       "      <td>-3.720198</td>\n",
       "      <td>28.895453</td>\n",
       "    </tr>\n",
       "    <tr>\n",
       "      <th>999</th>\n",
       "      <td>3.068659</td>\n",
       "      <td>0</td>\n",
       "      <td>-0.460241</td>\n",
       "      <td>6.661675</td>\n",
       "      <td>10.745735</td>\n",
       "    </tr>\n",
       "  </tbody>\n",
       "</table>\n",
       "<p>1000 rows × 5 columns</p>\n",
       "</div>"
      ],
      "text/plain": [
       "            x  label   noise_a   noise_b          y\n",
       "0    2.045004      1  1.408898  2.313349  14.493366\n",
       "1    3.994646      0 -1.808362  2.413133  12.175577\n",
       "2    4.986221      1 -0.821638 -3.816587  20.128298\n",
       "3    4.492704      1 -0.409213  0.692064  22.662879\n",
       "4    7.655811      1  0.025848 -2.680340  31.942902\n",
       "..        ...    ...       ...       ...        ...\n",
       "995  0.328510      0  0.050834  7.021946   3.036365\n",
       "996  2.766685      1 -1.198816 -0.932354  14.134387\n",
       "997  6.494023      0  0.069957  2.088417  21.552025\n",
       "998  8.979134      0 -0.041950 -3.720198  28.895453\n",
       "999  3.068659      0 -0.460241  6.661675  10.745735\n",
       "\n",
       "[1000 rows x 5 columns]"
      ]
     },
     "execution_count": 52,
     "metadata": {},
     "output_type": "execute_result"
    }
   ],
   "source": [
    "bernoulli = random.random()\n",
    "print(f'Random bernoulli variable is assigned as {bernoulli}')\n",
    "x = np.random.uniform(0, 10, 1000)\n",
    "label = np.random.binomial(1, bernoulli, 1000)\n",
    "noise_a = np.random.normal(0, 1, 1000) \n",
    "noise_b = np.random.normal(0, 3, 1000)\n",
    "d = {'x': x, 'label': label, 'noise_a': noise_a, 'noise_b': noise_b}\n",
    "df = pd.DataFrame(data=d)\n",
    "df.loc[df.label == 0, 'y'] = df.x * 3 + 2 + df.noise_a\n",
    "df.loc[df.label == 1, 'y'] = df.x * 4 + 4 + df.noise_b\n",
    "df"
   ]
  },
  {
   "cell_type": "markdown",
   "metadata": {},
   "source": [
    "## Plotting the data for a first overview "
   ]
  },
  {
   "cell_type": "code",
   "execution_count": 53,
   "metadata": {},
   "outputs": [
    {
     "data": {
      "text/plain": [
       "<matplotlib.axes._subplots.AxesSubplot at 0x7fde51121d30>"
      ]
     },
     "execution_count": 53,
     "metadata": {},
     "output_type": "execute_result"
    },
    {
     "data": {
      "image/png": "[encoded data removed]",
      "text/plain": [
       "<Figure size 432x288 with 2 Axes>"
      ]
     },
     "metadata": {
      "needs_background": "light"
     },
     "output_type": "display_data"
    }
   ],
   "source": [
    "fig, ax =plt.subplots(1,2, sharey=True)\n",
    "sns.scatterplot(data=df[df.label == 0],x='x', y='y', alpha=0.3,ax=ax[0])\n",
    "sns.scatterplot(data=df[df.label == 1],x='x', y='y', alpha=0.3,ax=ax[1])\n"
   ]
  },
  {
   "cell_type": "code",
   "execution_count": 54,
   "metadata": {},
   "outputs": [
    {
     "data": {
      "text/plain": [
       "<matplotlib.axes._subplots.AxesSubplot at 0x7fde510a4a30>"
      ]
     },
     "execution_count": 54,
     "metadata": {},
     "output_type": "execute_result"
    },
    {
     "data": {
      "image/png": "[encoded data removed]",
      "text/plain": [
       "<Figure size 432x288 with 1 Axes>"
      ]
     },
     "metadata": {
      "needs_background": "light"
     },
     "output_type": "display_data"
    }
   ],
   "source": [
    "sns.regplot(data=df[df.label == 0],x='x', y='y',scatter_kws={'alpha':0.1})\n",
    "sns.regplot(data=df[df.label == 1],x='x', y='y',scatter_kws={'alpha':0.1})\n"
   ]
  },
  {
   "cell_type": "code",
   "execution_count": 55,
   "metadata": {},
   "outputs": [
    {
     "data": {
      "text/plain": [
       "<matplotlib.axes._subplots.AxesSubplot at 0x7fde51307ee0>"
      ]
     },
     "execution_count": 55,
     "metadata": {},
     "output_type": "execute_result"
    },
    {
     "data": {
      "image/png": "[encoded data removed]",
      "text/plain": [
       "<Figure size 432x288 with 1 Axes>"
      ]
     },
     "metadata": {
      "needs_background": "light"
     },
     "output_type": "display_data"
    }
   ],
   "source": [
    "sns.kdeplot(data=df.x)"
   ]
  },
  {
   "cell_type": "markdown",
   "metadata": {},
   "source": [
    "# Second part: mathematical background "
   ]
  },
  {
   "cell_type": "markdown",
   "metadata": {},
   "source": [
    "To Do !"
   ]
  },
  {
   "cell_type": "markdown",
   "metadata": {},
   "source": [
    "# Third part: Implementation of the EM algorithm "
   ]
  },
  {
   "cell_type": "markdown",
   "metadata": {},
   "source": [
    "## Initialization "
   ]
  },
  {
   "cell_type": "code",
   "execution_count": 84,
   "metadata": {},
   "outputs": [
    {
     "data": {
      "text/plain": [
       "[0.5, 1, 1, 3, 0.5, 1, 0.5, 0.5]"
      ]
     },
     "execution_count": 84,
     "metadata": {},
     "output_type": "execute_result"
    }
   ],
   "source": [
    "# initialization of the parameter\n",
    "variance_a = random.randint(1, 3) #needs to be >= 0\n",
    "variance_b = random.randint(1, 3) #needs to be >= 0\n",
    "\n",
    "beta_a0 = beta_b0 = 0.5\n",
    "beta_a1 = beta_b1 = 1\n",
    "prob_a = 0.5\n",
    "prob_b = 0.5\n",
    "\n",
    "parameter_list = [beta_a0,beta_a1,variance_a,variance_b,beta_b0,beta_b1,prob_a,prob_b]\n",
    "parameter_list"
   ]
  },
  {
   "cell_type": "markdown",
   "metadata": {},
   "source": [
    "## Setting the weights "
   ]
  },
  {
   "cell_type": "code",
   "execution_count": 85,
   "metadata": {},
   "outputs": [
    {
     "name": "stdout",
     "output_type": "stream",
     "text": [
      "1.991643952553691e-32 5.342731141709328e-12 5.342731141709328e-12\n"
     ]
    }
   ],
   "source": [
    "w_a_numerator  = prob_a * (1/np.sqrt(2*np.pi*variance_a)) * np.exp((-(1/(2*variance_a)) * (df.y - beta_a0 - beta_a1*df.x)**2))\n",
    "w_b_numerator = prob_b * (1/np.sqrt(2*np.pi*variance_b)) * np.exp((-(1/(2*variance_b)) * (df.y - beta_b0 - beta_b1*df.x)**2))\n",
    "\n",
    "w_sum = w_a_numerator + w_b_numerator\n",
    "print(w_a_numerator[0], w_b_numerator[0],w_sum[0])\n",
    "w_a = w_a_numerator/w_sum\n",
    "w_b = w_b_numerator/w_sum"
   ]
  },
  {
   "cell_type": "code",
   "execution_count": 86,
   "metadata": {},
   "outputs": [
    {
     "data": {
      "text/html": [
       "<div>\n",
       "<style scoped>\n",
       "    .dataframe tbody tr th:only-of-type {\n",
       "        vertical-align: middle;\n",
       "    }\n",
       "\n",
       "    .dataframe tbody tr th {\n",
       "        vertical-align: top;\n",
       "    }\n",
       "\n",
       "    .dataframe thead th {\n",
       "        text-align: right;\n",
       "    }\n",
       "</style>\n",
       "<table border=\"1\" class=\"dataframe\">\n",
       "  <thead>\n",
       "    <tr style=\"text-align: right;\">\n",
       "      <th></th>\n",
       "      <th>w_a</th>\n",
       "      <th>w_b</th>\n",
       "    </tr>\n",
       "  </thead>\n",
       "  <tbody>\n",
       "    <tr>\n",
       "      <th>0</th>\n",
       "      <td>3.727764e-21</td>\n",
       "      <td>1.0</td>\n",
       "    </tr>\n",
       "    <tr>\n",
       "      <th>1</th>\n",
       "      <td>4.987857e-09</td>\n",
       "      <td>1.0</td>\n",
       "    </tr>\n",
       "    <tr>\n",
       "      <th>2</th>\n",
       "      <td>1.593564e-31</td>\n",
       "      <td>1.0</td>\n",
       "    </tr>\n",
       "    <tr>\n",
       "      <th>3</th>\n",
       "      <td>1.091189e-45</td>\n",
       "      <td>1.0</td>\n",
       "    </tr>\n",
       "    <tr>\n",
       "      <th>4</th>\n",
       "      <td>2.122738e-82</td>\n",
       "      <td>1.0</td>\n",
       "    </tr>\n",
       "  </tbody>\n",
       "</table>\n",
       "</div>"
      ],
      "text/plain": [
       "            w_a  w_b\n",
       "0  3.727764e-21  1.0\n",
       "1  4.987857e-09  1.0\n",
       "2  1.593564e-31  1.0\n",
       "3  1.091189e-45  1.0\n",
       "4  2.122738e-82  1.0"
      ]
     },
     "execution_count": 86,
     "metadata": {},
     "output_type": "execute_result"
    }
   ],
   "source": [
    "w_data = pd.DataFrame(data = {'w_a':w_a,'w_b':w_b})\n",
    "w_data.head()"
   ]
  },
  {
   "cell_type": "markdown",
   "metadata": {},
   "source": [
    "## Expectation step"
   ]
  },
  {
   "cell_type": "code",
   "execution_count": 87,
   "metadata": {},
   "outputs": [],
   "source": [
    "##Expectation step\n",
    "def Estep(parameter_list):\n",
    "    \n",
    "    beta_a0=parameter_list[0]\n",
    "    beta_a1=parameter_list[1]\n",
    "    variance_a=parameter_list[2]\n",
    "    variance_b=parameter_list[3]\n",
    "    beta_b0 = parameter_list[4]\n",
    "    beta_b1 = parameter_list[5]\n",
    "    prob_a = parameter_list[6]\n",
    "    prob_b = parameter_list[7]\n",
    "    \n",
    "    #Set the values for the algorithm\n",
    "    \n",
    "    w_a_numerator  = prob_a * (1/np.sqrt(2*np.pi*variance_a)) * np.exp((-(1/(2*variance_a)) * (df.y - beta_a0 - beta_a1*df.x)**2))\n",
    "    w_b_numerator = prob_b * (1/np.sqrt(2*np.pi*variance_b)) * np.exp((-(1/(2*variance_b)) * (df.y - beta_b0 - beta_b1*df.x)**2))\n",
    "\n",
    "    w_sum = w_a_numerator + w_b_numerator\n",
    "\n",
    "    w_a = w_a_numerator/w_sum\n",
    "    w_b = w_b_numerator/w_sum\n",
    "    \n",
    "    return(w_a,w_b)\n"
   ]
  },
  {
   "cell_type": "markdown",
   "metadata": {},
   "source": [
    "## Maximisation step"
   ]
  },
  {
   "cell_type": "code",
   "execution_count": 88,
   "metadata": {},
   "outputs": [],
   "source": [
    "## Maximisation step:\n",
    "def Mstep(w_a, w_b, parameter_list, df):\n",
    "    \n",
    "    #parameter_list = [beta_a0,beta_a1,variance_a,variance_b,beta_b0,beta_b1,prob_a,prob_b]\n",
    "    beta_a0=parameter_list[0]\n",
    "    beta_a1=parameter_list[1]\n",
    "    variance_a=parameter_list[2]\n",
    "    variance_b=parameter_list[3]\n",
    "    beta_b0 = parameter_list[4]\n",
    "    beta_b1 = parameter_list[5]\n",
    "    prob_a = parameter_list[6]\n",
    "    prob_b = parameter_list[7]\n",
    "       \n",
    "    #Update the function following the derived update rules:\n",
    "    \n",
    "    #Update the prior beliefs\n",
    "    prob_a = w_a.sum()/(w_a.sum() +w_b.sum()).sum()\n",
    "    prob_b = w_b.sum()/(w_a.sum() +w_b.sum()).sum()\n",
    "\n",
    "    \n",
    "    #Update the betas for each subgroup\n",
    "    #Beta_0\n",
    "    \n",
    "    beta_a0 = ((df.y - beta_a1*df.x)*w_a).sum()/w_a.sum() \n",
    "    beta_b0 = ((df.y - beta_b1*df.x)*w_b).sum()/w_b.sum() \n",
    "  \n",
    "    #New beta formula\n",
    "    beta_a1 = ((df.y*df.x - beta_a0*df.x)*w_a).sum()/(w_a*df.x**2).sum() \n",
    "    beta_b1 = ((df.y*df.x - beta_b0*df.x)*w_b).sum()/(w_b*df.x**2).sum() \n",
    "    #print('beta1', beta_a1, beta_b1)\n",
    "    \n",
    "    #Update the variance \n",
    "    #Define the residuals first\n",
    "    e_hat_a = df.y - beta_a0-beta_a1*df.x\n",
    "    e_hat_b = df.y - beta_b0-beta_b1*df.x\n",
    "    #print('ehat', e_hat_a, e_hat_b)\n",
    "    \n",
    "    #Define the variance \n",
    "\n",
    "    variance_a = ((e_hat_a**2)*w_a).sum()/w_a.sum()\n",
    "    variance_b = ((e_hat_b**2)*w_b).sum()/w_b.sum()\n",
    "\n",
    "    #Store the new parameters in a parameter_list\n",
    "    parameter_list = [beta_a0,beta_a1,variance_a,variance_b,beta_b0,beta_b1,prob_a,prob_b]\n",
    "    return parameter_list\n",
    "    "
   ]
  },
  {
   "cell_type": "code",
   "execution_count": 89,
   "metadata": {},
   "outputs": [
    {
     "data": {
      "text/plain": [
       "[1.9158578485730577,\n",
       " 1.3388478981563836,\n",
       " 1.040517460680546,\n",
       " 64.12785307666765,\n",
       " 15.976489488720382,\n",
       " 1.6911442027207422,\n",
       " 0.02732527703590636,\n",
       " 0.9726747229640937]"
      ]
     },
     "execution_count": 89,
     "metadata": {},
     "output_type": "execute_result"
    }
   ],
   "source": [
    "Mstep(w_a,w_b, parameter_list,df)"
   ]
  },
  {
   "cell_type": "markdown",
   "metadata": {},
   "source": [
    "## Defining the average likelihood function"
   ]
  },
  {
   "cell_type": "code",
   "execution_count": 90,
   "metadata": {},
   "outputs": [],
   "source": [
    "def get_avg_log_likelihood(w_a,w_b,df, parameter_list):\n",
    "    beta_a0=parameter_list[0]\n",
    "    beta_a1=parameter_list[1]\n",
    "    variance_a=parameter_list[2]\n",
    "    variance_b=parameter_list[3]\n",
    "    beta_b0 = parameter_list[4]\n",
    "    beta_b1 = parameter_list[5]\n",
    "    prob_a = parameter_list[6]\n",
    "    prob_b = parameter_list[7]   \n",
    "    \n",
    "    Q_function_a = -1/2*((w_a*((df.y-beta_a0-beta_a1*df.x)**2-math.log(variance_a))).sum())\n",
    "    Q_function_b = -1/2*((w_b*((df.y-beta_b0-beta_b1*df.x)**2-math.log(variance_b))).sum())\n",
    "    \n",
    "    Q_function = Q_function_a + Q_function_b\n",
    "    \n",
    "    return Q_function"
   ]
  },
  {
   "cell_type": "code",
   "execution_count": 91,
   "metadata": {},
   "outputs": [],
   "source": [
    "def run_em(df, parameter_list):\n",
    "    avg_loglikelihoods = []\n",
    "    while True: \n",
    "        #Estimation step\n",
    "        w_a,w_b = Estep(parameter_list) \n",
    "        \n",
    "        #Maximisation step:\n",
    "        parameter_list = Mstep(w_a,w_b,parameter_list,df) #Update the maximisation step\n",
    "        \n",
    "        #Evaluate the loglikelihood function\n",
    "        avg_loglikelihood = get_avg_log_likelihood(w_a,w_b,df, parameter_list)\n",
    "        avg_loglikelihoods.append(avg_loglikelihood)\n",
    "        slope = 1/avg_loglikelihood\n",
    "        if len(avg_loglikelihoods)>2 and (avg_loglikelihoods[-1] - avg_loglikelihoods[-2]) < 0:\n",
    "            break\n",
    "        if len(avg_loglikelihoods) > 2 and abs(avg_loglikelihoods[-1] - avg_loglikelihoods[-2]) < 0.0001: #Define a stopping criterion\n",
    "            break\n",
    "    \n",
    "    return parameter_list, avg_loglikelihoods"
   ]
  },
  {
   "cell_type": "code",
   "execution_count": 92,
   "metadata": {},
   "outputs": [],
   "source": [
    "test = run_em(df, parameter_list)"
   ]
  },
  {
   "cell_type": "code",
   "execution_count": 93,
   "metadata": {},
   "outputs": [
    {
     "data": {
      "text/plain": [
       "([2.1017394221391736,\n",
       "  2.992967600391148,\n",
       "  1.0132461756480926,\n",
       "  10.244432251078655,\n",
       "  3.5776393258276586,\n",
       "  4.076265821361836,\n",
       "  0.4213725176564326,\n",
       "  0.5786274823435674],\n",
       " [-29177.853607486028,\n",
       "  -19414.17560099508,\n",
       "  -14332.005556547985,\n",
       "  -11609.248935019938,\n",
       "  -10083.560688381765,\n",
       "  -9222.465063277488,\n",
       "  -8732.783011031508,\n",
       "  -8435.596286734139,\n",
       "  -8193.894512614306,\n",
       "  -7893.952863741939,\n",
       "  -7476.311334678448,\n",
       "  -6872.274189978879,\n",
       "  -6089.636074829609,\n",
       "  -5265.459229639025,\n",
       "  -4568.488313167835,\n",
       "  -4028.811381904491,\n",
       "  -3616.660079755873,\n",
       "  -3308.2073512292172,\n",
       "  -3083.2299418870416,\n",
       "  -2922.911953046636,\n",
       "  -2811.025203211562,\n",
       "  -2733.7415068922364,\n",
       "  -2680.050079500798,\n",
       "  -2641.9755139044337,\n",
       "  -2614.1601751649096,\n",
       "  -2593.170295561027,\n",
       "  -2576.85231088061,\n",
       "  -2563.855319893121,\n",
       "  -2553.315599776567,\n",
       "  -2544.661640433403,\n",
       "  -2537.4982454182154,\n",
       "  -2531.5390159367266,\n",
       "  -2526.567239528208,\n",
       "  -2522.4130465350136,\n",
       "  -2518.9397617604127,\n",
       "  -2516.0354375860697,\n",
       "  -2513.6073292771443,\n",
       "  -2511.578075597552,\n",
       "  -2509.8829036793295,\n",
       "  -2508.467481181945,\n",
       "  -2507.2862036153056,\n",
       "  -2506.300793628618,\n",
       "  -2505.4791371125857,\n",
       "  -2504.7943072056305,\n",
       "  -2504.223741997648,\n",
       "  -2503.748550339492,\n",
       "  -2503.352925557072,\n",
       "  -2503.0236505241755,\n",
       "  -2502.749680233708,\n",
       "  -2502.5217901157866,\n",
       "  -2502.332280084268,\n",
       "  -2502.174725757435,\n",
       "  -2502.04376955232,\n",
       "  -2501.9349454317044,\n",
       "  -2501.8445320132128,\n",
       "  -2501.769429550253,\n",
       "  -2501.7070569815564,\n",
       "  -2501.655265833654,\n",
       "  -2501.612268262155,\n",
       "  -2501.576576944258,\n",
       "  -2501.546954897112,\n",
       "  -2501.5223736033954,\n",
       "  -2501.501978084735,\n",
       "  -2501.4850577825478,\n",
       "  -2501.4710222902677,\n",
       "  -2501.4593811362247,\n",
       "  -2501.4497269469075,\n",
       "  -2501.4417214300265,\n",
       "  -2501.435083708727,\n",
       "  -2501.4295806153855,\n",
       "  -2501.425018618096,\n",
       "  -2501.421237106918,\n",
       "  -2501.4181028122734,\n",
       "  -2501.41550516565,\n",
       "  -2501.4133524443937,\n",
       "  -2501.411568568708,\n",
       "  -2501.410090441099,\n",
       "  -2501.408865736772,\n",
       "  -2501.4078510689014,\n",
       "  -2501.4070104654247,\n",
       "  -2501.406314104661,\n",
       "  -2501.4057372659386,\n",
       "  -2501.4052594588197,\n",
       "  -2501.4048637005662,\n",
       "  -2501.404535916765,\n",
       "  -2501.4042644441092,\n",
       "  -2501.40403961803,\n",
       "  -2501.4038534306965,\n",
       "  -2501.403699247424,\n",
       "  -2501.403571571555,\n",
       "  -2501.403465849509,\n",
       "  -2501.4033783091777])"
      ]
     },
     "execution_count": 93,
     "metadata": {},
     "output_type": "execute_result"
    }
   ],
   "source": [
    "test"
   ]
  },
  {
   "cell_type": "markdown",
   "metadata": {},
   "source": [
    "## Plotting the iterations "
   ]
  },
  {
   "cell_type": "code",
   "execution_count": 81,
   "metadata": {},
   "outputs": [],
   "source": [
    "loglikelihoods = test[1]\n",
    "iterations = np.arange(0,len(loglikelihoods),1)\n",
    "data_log = pd.DataFrame(data={'logs': loglikelihoods, 'iterations': iterations})"
   ]
  },
  {
   "cell_type": "code",
   "execution_count": 82,
   "metadata": {},
   "outputs": [
    {
     "data": {
      "text/html": [
       "<div>\n",
       "<style scoped>\n",
       "    .dataframe tbody tr th:only-of-type {\n",
       "        vertical-align: middle;\n",
       "    }\n",
       "\n",
       "    .dataframe tbody tr th {\n",
       "        vertical-align: top;\n",
       "    }\n",
       "\n",
       "    .dataframe thead th {\n",
       "        text-align: right;\n",
       "    }\n",
       "</style>\n",
       "<table border=\"1\" class=\"dataframe\">\n",
       "  <thead>\n",
       "    <tr style=\"text-align: right;\">\n",
       "      <th></th>\n",
       "      <th>logs</th>\n",
       "      <th>iterations</th>\n",
       "    </tr>\n",
       "  </thead>\n",
       "  <tbody>\n",
       "    <tr>\n",
       "      <th>0</th>\n",
       "      <td>-29486.976921</td>\n",
       "      <td>0</td>\n",
       "    </tr>\n",
       "    <tr>\n",
       "      <th>1</th>\n",
       "      <td>-19463.513895</td>\n",
       "      <td>1</td>\n",
       "    </tr>\n",
       "    <tr>\n",
       "      <th>2</th>\n",
       "      <td>-14290.090181</td>\n",
       "      <td>2</td>\n",
       "    </tr>\n",
       "    <tr>\n",
       "      <th>3</th>\n",
       "      <td>-11562.939424</td>\n",
       "      <td>3</td>\n",
       "    </tr>\n",
       "    <tr>\n",
       "      <th>4</th>\n",
       "      <td>-10051.605989</td>\n",
       "      <td>4</td>\n",
       "    </tr>\n",
       "    <tr>\n",
       "      <th>...</th>\n",
       "      <td>...</td>\n",
       "      <td>...</td>\n",
       "    </tr>\n",
       "    <tr>\n",
       "      <th>88</th>\n",
       "      <td>-2501.403977</td>\n",
       "      <td>88</td>\n",
       "    </tr>\n",
       "    <tr>\n",
       "      <th>89</th>\n",
       "      <td>-2501.403801</td>\n",
       "      <td>89</td>\n",
       "    </tr>\n",
       "    <tr>\n",
       "      <th>90</th>\n",
       "      <td>-2501.403656</td>\n",
       "      <td>90</td>\n",
       "    </tr>\n",
       "    <tr>\n",
       "      <th>91</th>\n",
       "      <td>-2501.403536</td>\n",
       "      <td>91</td>\n",
       "    </tr>\n",
       "    <tr>\n",
       "      <th>92</th>\n",
       "      <td>-2501.403436</td>\n",
       "      <td>92</td>\n",
       "    </tr>\n",
       "  </tbody>\n",
       "</table>\n",
       "<p>93 rows × 2 columns</p>\n",
       "</div>"
      ],
      "text/plain": [
       "            logs  iterations\n",
       "0  -29486.976921           0\n",
       "1  -19463.513895           1\n",
       "2  -14290.090181           2\n",
       "3  -11562.939424           3\n",
       "4  -10051.605989           4\n",
       "..           ...         ...\n",
       "88  -2501.403977          88\n",
       "89  -2501.403801          89\n",
       "90  -2501.403656          90\n",
       "91  -2501.403536          91\n",
       "92  -2501.403436          92\n",
       "\n",
       "[93 rows x 2 columns]"
      ]
     },
     "execution_count": 82,
     "metadata": {},
     "output_type": "execute_result"
    }
   ],
   "source": [
    "data_log"
   ]
  },
  {
   "cell_type": "code",
   "execution_count": 83,
   "metadata": {},
   "outputs": [
    {
     "data": {
      "text/plain": [
       "<matplotlib.axes._subplots.AxesSubplot at 0x7fde510f1280>"
      ]
     },
     "execution_count": 83,
     "metadata": {},
     "output_type": "execute_result"
    },
    {
     "data": {
      "image/png": "[encoded data removed]",
      "text/plain": [
       "<Figure size 432x288 with 1 Axes>"
      ]
     },
     "metadata": {
      "needs_background": "light"
     },
     "output_type": "display_data"
    }
   ],
   "source": [
    "sns.scatterplot(x = 'iterations', y = 'logs', data = data_log)"
   ]
  }
 ],
 "metadata": {
  "kernelspec": {
   "display_name": "Python 3",
   "language": "python",
   "name": "python3"
  },
  "language_info": {
   "codemirror_mode": {
    "name": "ipython",
    "version": 3
   },
   "file_extension": ".py",
   "mimetype": "text/x-python",
   "name": "python",
   "nbconvert_exporter": "python",
   "pygments_lexer": "ipython3",
   "version": "3.8.3"
  }
 },
 "nbformat": 4,
 "nbformat_minor": 4
}
