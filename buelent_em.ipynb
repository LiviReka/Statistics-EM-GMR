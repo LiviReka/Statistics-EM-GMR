{
 "cells": [
  {
   "cell_type": "markdown",
   "metadata": {},
   "source": [
    "# Group project: Mixture of regression - An application of the EM-algorithm "
   ]
  },
  {
   "cell_type": "markdown",
   "metadata": {},
   "source": [
    "by Buelent, Polina, Liva and Antonios"
   ]
  },
  {
   "cell_type": "code",
   "execution_count": 3,
   "metadata": {},
   "outputs": [],
   "source": [
    "#Import relevant packages\n",
    "import pandas as pd\n",
    "import numpy as np\n",
    "import matplotlib.pyplot as plt\n",
    "import seaborn as sns\n",
    "import random\n",
    "#sns.set_theme(style=\"darkgrid\")\n",
    "random.seed(10)\n",
    "import math\n",
    "import scipy.stats"
   ]
  },
  {
   "cell_type": "markdown",
   "metadata": {},
   "source": [
    "# First part: Generating the synthetic data set "
   ]
  },
  {
   "cell_type": "code",
   "execution_count": 4,
   "metadata": {},
   "outputs": [
    {
     "name": "stdout",
     "output_type": "stream",
     "text": [
      "Random bernoulli variable is assigned as 0.5714025946899135\n"
     ]
    },
    {
     "data": {
      "text/html": [
       "<div>\n",
       "<style scoped>\n",
       "    .dataframe tbody tr th:only-of-type {\n",
       "        vertical-align: middle;\n",
       "    }\n",
       "\n",
       "    .dataframe tbody tr th {\n",
       "        vertical-align: top;\n",
       "    }\n",
       "\n",
       "    .dataframe thead th {\n",
       "        text-align: right;\n",
       "    }\n",
       "</style>\n",
       "<table border=\"1\" class=\"dataframe\">\n",
       "  <thead>\n",
       "    <tr style=\"text-align: right;\">\n",
       "      <th></th>\n",
       "      <th>x</th>\n",
       "      <th>label</th>\n",
       "      <th>noise_a</th>\n",
       "      <th>noise_b</th>\n",
       "      <th>y</th>\n",
       "    </tr>\n",
       "  </thead>\n",
       "  <tbody>\n",
       "    <tr>\n",
       "      <th>0</th>\n",
       "      <td>8.025117</td>\n",
       "      <td>1</td>\n",
       "      <td>0.113399</td>\n",
       "      <td>3.617551</td>\n",
       "      <td>39.718020</td>\n",
       "    </tr>\n",
       "    <tr>\n",
       "      <th>1</th>\n",
       "      <td>2.492769</td>\n",
       "      <td>1</td>\n",
       "      <td>0.940146</td>\n",
       "      <td>-3.326751</td>\n",
       "      <td>10.644326</td>\n",
       "    </tr>\n",
       "    <tr>\n",
       "      <th>2</th>\n",
       "      <td>3.651194</td>\n",
       "      <td>1</td>\n",
       "      <td>1.029246</td>\n",
       "      <td>-4.668404</td>\n",
       "      <td>13.936371</td>\n",
       "    </tr>\n",
       "    <tr>\n",
       "      <th>3</th>\n",
       "      <td>1.891707</td>\n",
       "      <td>0</td>\n",
       "      <td>0.245683</td>\n",
       "      <td>5.249458</td>\n",
       "      <td>7.920805</td>\n",
       "    </tr>\n",
       "    <tr>\n",
       "      <th>4</th>\n",
       "      <td>3.954284</td>\n",
       "      <td>1</td>\n",
       "      <td>-0.435194</td>\n",
       "      <td>-6.186804</td>\n",
       "      <td>13.630331</td>\n",
       "    </tr>\n",
       "    <tr>\n",
       "      <th>...</th>\n",
       "      <td>...</td>\n",
       "      <td>...</td>\n",
       "      <td>...</td>\n",
       "      <td>...</td>\n",
       "      <td>...</td>\n",
       "    </tr>\n",
       "    <tr>\n",
       "      <th>995</th>\n",
       "      <td>4.618699</td>\n",
       "      <td>1</td>\n",
       "      <td>-1.714642</td>\n",
       "      <td>2.009513</td>\n",
       "      <td>24.484311</td>\n",
       "    </tr>\n",
       "    <tr>\n",
       "      <th>996</th>\n",
       "      <td>9.344789</td>\n",
       "      <td>0</td>\n",
       "      <td>-0.848112</td>\n",
       "      <td>-4.773929</td>\n",
       "      <td>29.186256</td>\n",
       "    </tr>\n",
       "    <tr>\n",
       "      <th>997</th>\n",
       "      <td>5.768826</td>\n",
       "      <td>0</td>\n",
       "      <td>0.253196</td>\n",
       "      <td>-2.487829</td>\n",
       "      <td>19.559674</td>\n",
       "    </tr>\n",
       "    <tr>\n",
       "      <th>998</th>\n",
       "      <td>2.374843</td>\n",
       "      <td>1</td>\n",
       "      <td>1.340462</td>\n",
       "      <td>-4.225697</td>\n",
       "      <td>9.273674</td>\n",
       "    </tr>\n",
       "    <tr>\n",
       "      <th>999</th>\n",
       "      <td>7.490921</td>\n",
       "      <td>1</td>\n",
       "      <td>-0.064462</td>\n",
       "      <td>0.882337</td>\n",
       "      <td>34.846022</td>\n",
       "    </tr>\n",
       "  </tbody>\n",
       "</table>\n",
       "<p>1000 rows × 5 columns</p>\n",
       "</div>"
      ],
      "text/plain": [
       "            x  label   noise_a   noise_b          y\n",
       "0    8.025117      1  0.113399  3.617551  39.718020\n",
       "1    2.492769      1  0.940146 -3.326751  10.644326\n",
       "2    3.651194      1  1.029246 -4.668404  13.936371\n",
       "3    1.891707      0  0.245683  5.249458   7.920805\n",
       "4    3.954284      1 -0.435194 -6.186804  13.630331\n",
       "..        ...    ...       ...       ...        ...\n",
       "995  4.618699      1 -1.714642  2.009513  24.484311\n",
       "996  9.344789      0 -0.848112 -4.773929  29.186256\n",
       "997  5.768826      0  0.253196 -2.487829  19.559674\n",
       "998  2.374843      1  1.340462 -4.225697   9.273674\n",
       "999  7.490921      1 -0.064462  0.882337  34.846022\n",
       "\n",
       "[1000 rows x 5 columns]"
      ]
     },
     "execution_count": 4,
     "metadata": {},
     "output_type": "execute_result"
    }
   ],
   "source": [
    "bernoulli = random.random()\n",
    "print(f'Random bernoulli variable is assigned as {bernoulli}')\n",
    "x = np.random.uniform(0, 10, 1000)\n",
    "label = np.random.binomial(1, bernoulli, 1000)\n",
    "noise_a = np.random.normal(0, 1, 1000) \n",
    "noise_b = np.random.normal(0, 3, 1000)\n",
    "d = {'x': x, 'label': label, 'noise_a': noise_a, 'noise_b': noise_b}\n",
    "df = pd.DataFrame(data=d)\n",
    "df.loc[df.label == 0, 'y'] = df.x * 3 + 2 + df.noise_a\n",
    "df.loc[df.label == 1, 'y'] = df.x * 4 + 4 + df.noise_b\n",
    "df"
   ]
  },
  {
   "cell_type": "markdown",
   "metadata": {},
   "source": [
    "## Plotting the data for a first overview "
   ]
  },
  {
   "cell_type": "code",
   "execution_count": 5,
   "metadata": {},
   "outputs": [
    {
     "data": {
      "text/plain": [
       "<matplotlib.axes._subplots.AxesSubplot at 0x7f25e84d30a0>"
      ]
     },
     "execution_count": 5,
     "metadata": {},
     "output_type": "execute_result"
    },
    {
     "data": {
      "image/png": "[encoded data removed]",
      "text/plain": [
       "<Figure size 432x288 with 2 Axes>"
      ]
     },
     "metadata": {
      "needs_background": "light"
     },
     "output_type": "display_data"
    }
   ],
   "source": [
    "fig, ax =plt.subplots(1,2, sharey=True)\n",
    "sns.scatterplot(data=df[df.label == 0],x='x', y='y', alpha=0.3,ax=ax[0])\n",
    "sns.scatterplot(data=df[df.label == 1],x='x', y='y', alpha=0.3,ax=ax[1])\n"
   ]
  },
  {
   "cell_type": "code",
   "execution_count": 6,
   "metadata": {},
   "outputs": [
    {
     "data": {
      "text/plain": [
       "<matplotlib.axes._subplots.AxesSubplot at 0x7f25e840a100>"
      ]
     },
     "execution_count": 6,
     "metadata": {},
     "output_type": "execute_result"
    },
    {
     "data": {
      "image/png": "[encoded data removed]",
      "text/plain": [
       "<Figure size 432x288 with 1 Axes>"
      ]
     },
     "metadata": {
      "needs_background": "light"
     },
     "output_type": "display_data"
    }
   ],
   "source": [
    "sns.regplot(data=df[df.label == 0],x='x', y='y',scatter_kws={'alpha':0.1})\n",
    "sns.regplot(data=df[df.label == 1],x='x', y='y',scatter_kws={'alpha':0.1})\n"
   ]
  },
  {
   "cell_type": "code",
   "execution_count": 7,
   "metadata": {},
   "outputs": [
    {
     "data": {
      "text/plain": [
       "<matplotlib.axes._subplots.AxesSubplot at 0x7f25e7b7db80>"
      ]
     },
     "execution_count": 7,
     "metadata": {},
     "output_type": "execute_result"
    },
    {
     "data": {
      "image/png": "[encoded data removed]",
      "text/plain": [
       "<Figure size 432x288 with 1 Axes>"
      ]
     },
     "metadata": {
      "needs_background": "light"
     },
     "output_type": "display_data"
    }
   ],
   "source": [
    "sns.kdeplot(data=df.x)"
   ]
  },
  {
   "cell_type": "markdown",
   "metadata": {},
   "source": [
    "# Second part: Mathematical background "
   ]
  },
  {
   "cell_type": "markdown",
   "metadata": {},
   "source": [
    "# General Framework:\n",
    "\n",
    "$$ y_i|x_i,z_i = j;\\Theta \\sim \\mathcal{N}(\\beta_{0j} + \\beta_{1j} x_i,\\sigma^{2}_{zi}) $$ \n",
    "\n",
    "$$ j \\in \\{1,2\\} $$\n",
    "\n",
    "$$ p(z_i = j) = \\pi_j = 0.5 $$\n",
    "\n",
    "$$ \\Theta = (\\beta_{01}, \\beta_{11}, \\beta_{02}, \\beta_{12}, \\sigma^{2}_{1},\\sigma^{2}_{2}, \\pi_1, \\pi_2) $$\n",
    "\n",
    "The EM algorithm is specified as follows:\n",
    "\n",
    "$$ Q(\\theta, \\theta_0) = E_{p(\\mathbf{z}|\\mathbf{y},\\mathbf{x},\\theta_0)} [\\log (p(\\mathbf{y},\\mathbf{z},\\mathbf{x};\\theta))] $$\n",
    "\n",
    "In a first step, we define $w^i_j$ as follows:\n",
    "\n",
    "$$ p(z_i = j|y_i,x_i;\\theta_0) = \\frac{p(z_i = j,y_i,x_i;\\theta_0)}{p(y_i,x_i;\\theta_0)} $$\n",
    "\n",
    "where the numerator is given by (using Bayes' Theorem for the last expression):\n",
    "\n",
    "$$ p(z_i =j,y_i,x_i;\\theta_0) = p(y_i,x_i|z_i = j;\\theta_0) p(z_i = j)  \\propto p(y_i|x_i, zi_=j;\\theta_0) p(z_i =j)$$\n",
    "\n",
    "the denumerator is given by:\n",
    "\n",
    "$$ p(y_i,x_i;\\theta_0) = p(z_i = 1) p(y_i,x_i|z_i=1;\\theta_0) + p(z_i = 2) p(y_i,x_i|z_i = 2;\\theta_0)  $$\n",
    "\n",
    "where again using Bayes' Thereom:\n",
    "\n",
    "$$ p(z_i = 1) p(y_i,x_i|z_i=1;\\theta_0) \\propto p(z_i = 1) p(y_i|x_i,z_i=1;\\theta_0) $$  \n",
    "\n",
    "and \n",
    "\n",
    "$$ p(z_i = 2) p(y_i,x_i|z_i=2;\\theta_0) \\propto p(z_i = 2) p(y_i|x_i,z_i=2;\\theta_0) $$\n",
    "\n",
    "hold.\n",
    "\n",
    "Now, in the expecation step, as we have a discrete latent variable, we calculate $w_1$ and $w_2$. After that, we have in the maximization step the following objective function that needs to be maximized:\n",
    "\n",
    "$$ L(\\theta) = \\sum^N_{i=1} \\sum^2_{j=1} w^i_j  [\\log (p(z_i=j)) + log (p(y_i|x_i,z_i = j;\\theta)] $$\n",
    "\n",
    "where we know given the framework \n",
    "\n",
    "$$ p(y_i|z_i = j,x_i,\\Theta) = \\frac{1}{\\sqrt{2\\pi\\sigma^{2}_{z_i}}} exp \\{ -\\frac{1}{2 \\sigma^2_{z_i}}(y_i-\\beta_{0j} + \\beta_{1j})^2\\}$$\n",
    "\n",
    "also holds.\n",
    "\n",
    "In order to get the updating rules that are used in the maximization step, we need to take the first derivative with respect to all parameters. In our case there are closed form solutions (which is not always the case!). We arrive to the following updating rules that will be used in the algorithm below:\n",
    "\n",
    "$$ \\beta_{0j} = \\frac {\\sum^N_{i=1} w^i_j (y_i -\\beta_{1j}x_i)}{\\sum^N_{i=1} w^i_j} $$\n",
    "\n",
    "$$ \\beta_{1j} = \\frac {\\sum^N_{i=1} w^i_j x_i (y_i -\\beta_{0j})}{\\sum^N_{i=1} x_i^2 w^i_j} $$\n",
    "\n",
    "$$ \\sigma_{z_i = j} = \\frac {\\sum^N_{i=1} w^i_j (y_i -\\beta_{0j}-\\beta_{1j}x_i)}{\\sum^N_{i=1} w^i_j}  $$\n",
    "\n",
    "$$ \\pi_j = \\frac {\\sum^N_{i=1} w^i_j}{\\sum^2_{j=1} \\sum^N_{i=1} w^i_j} $$ \n",
    "\n"
   ]
  },
  {
   "cell_type": "markdown",
   "metadata": {},
   "source": [
    "# Third part: Implementation of the EM algorithm "
   ]
  },
  {
   "cell_type": "markdown",
   "metadata": {},
   "source": [
    "## Initialization of the parameter list"
   ]
  },
  {
   "cell_type": "code",
   "execution_count": 8,
   "metadata": {},
   "outputs": [],
   "source": [
    "def initialize_parameter_list(d):\n",
    "    d['variance_a']=random.randint(1, 3)\n",
    "    d['variance_b']=random.randint(1, 3)\n",
    "    d['beta_a0'] = random.uniform(0,5)\n",
    "    d['beta_a1'] = random.uniform(0,5)\n",
    "    d['beta_b0'] = random.uniform(0,5)\n",
    "    d['beta_b1'] = random.uniform(0,5)\n",
    "    d['prob_a'] = random.random()\n",
    "    d['prob_b'] = 1 - d['prob_a']\n",
    "    return d"
   ]
  },
  {
   "cell_type": "code",
   "execution_count": 9,
   "metadata": {},
   "outputs": [
    {
     "data": {
      "text/plain": [
       "{'variance_a': 2,\n",
       " 'variance_b': 2,\n",
       " 'beta_a0': 2.890456505672352,\n",
       " 'beta_a1': 1.0304911606975087,\n",
       " 'beta_b0': 4.0666062567866,\n",
       " 'beta_b1': 4.117944362667227,\n",
       " 'prob_a': 0.6534725339011758,\n",
       " 'prob_b': 0.34652746609882423}"
      ]
     },
     "execution_count": 9,
     "metadata": {},
     "output_type": "execute_result"
    }
   ],
   "source": [
    "# initialization of the parameter\n",
    "params = initialize_parameter_list({})\n",
    "params"
   ]
  },
  {
   "cell_type": "markdown",
   "metadata": {},
   "source": [
    "## Expectation step"
   ]
  },
  {
   "cell_type": "code",
   "execution_count": 10,
   "metadata": {},
   "outputs": [],
   "source": [
    "##Expectation step\n",
    "def Estep(p):\n",
    "   \n",
    "    #Set the values for the algorithm\n",
    "    w_a_numerator  = p['prob_a'] * (1/np.sqrt(2*np.pi*p['variance_a'])) * np.exp((-(1/(2*p['variance_a'])) * (df.y - p['beta_a0'] - p['beta_a1']*df.x)**2))\n",
    "    w_b_numerator  = p['prob_b'] * (1/np.sqrt(2*np.pi*p['variance_b'])) * np.exp((-(1/(2*p['variance_b'])) * (df.y - p['beta_b0'] - p['beta_b1']*df.x)**2))\n",
    "    p['w_sum'] = w_a_numerator + w_b_numerator\n",
    "    p['w_a'] = w_a_numerator/p['w_sum']\n",
    "    p['w_b'] = w_b_numerator/p['w_sum']\n",
    "    \n",
    "    return p\n"
   ]
  },
  {
   "cell_type": "markdown",
   "metadata": {},
   "source": [
    "## Maximisation step"
   ]
  },
  {
   "cell_type": "code",
   "execution_count": 11,
   "metadata": {},
   "outputs": [],
   "source": [
    "## Maximisation step:\n",
    "def Mstep(p, df):\n",
    "\n",
    "    #Update the function following the derived update rules:\n",
    "    \n",
    "    #Update the prior beliefs\n",
    "    p['prob_a'] = p['w_a'].sum()/(p['w_a'].sum() +p['w_b'].sum()).sum()\n",
    "    p['prob_b'] = p['w_b'].sum()/(p['w_a'].sum() +p['w_b'].sum()).sum()\n",
    "    \n",
    "    #Update the betas for each subgroup\n",
    "    #Beta_0\n",
    "    \n",
    "    p['beta_a0'] = ((df.y - p['beta_a1']*df.x)*p['w_a']).sum()/p['w_a'].sum() \n",
    "    p['beta_b0'] = ((df.y - p['beta_b1']*df.x)*p['w_b']).sum()/p['w_b'].sum() \n",
    "  \n",
    "    #New beta formula\n",
    "    p['beta_a1'] = ((df.y*df.x - p['beta_a0']*df.x)*p['w_a']).sum()/(p['w_a']*df.x**2).sum() \n",
    "    p['beta_b1'] = ((df.y*df.x - p['beta_b0']*df.x)*p['w_b']).sum()/(p['w_b']*df.x**2).sum() \n",
    "    #print('beta1', beta_a1, beta_b1)\n",
    "    \n",
    "    #Update the variance \n",
    "    #Define the residuals first\n",
    "    e_hat_a = df.y - p['beta_a0']-p['beta_a1']*df.x\n",
    "    e_hat_b = df.y - p['beta_b0']-p['beta_b1']*df.x\n",
    "    #print('ehat', e_hat_a, e_hat_b)\n",
    "    \n",
    "    #Define the variance \n",
    "\n",
    "    p['variance_a'] = ((e_hat_a**2)*p['w_a']).sum()/p['w_a'].sum()\n",
    "    p['variance_b'] = ((e_hat_b**2)*p['w_b']).sum()/p['w_b'].sum()\n",
    "\n",
    "    return p\n",
    "    "
   ]
  },
  {
   "cell_type": "code",
   "execution_count": 12,
   "metadata": {},
   "outputs": [
    {
     "data": {
      "text/plain": [
       "{'variance_a': 7.2083156436978255,\n",
       " 'variance_b': 23.752953048710445,\n",
       " 'beta_a0': 6.014247550587295,\n",
       " 'beta_a1': 1.6904693683581482,\n",
       " 'beta_b0': 0.6493098140328104,\n",
       " 'beta_b1': 3.9839501356690725,\n",
       " 'prob_a': 0.18967636420323108,\n",
       " 'prob_b': 0.8103236357967689,\n",
       " 'w_sum': 0      1.793385e-02\n",
       " 1      3.487207e-03\n",
       " 2      1.241898e-04\n",
       " 3      1.921320e-02\n",
       " 4      3.993186e-06\n",
       "            ...     \n",
       " 995    5.996368e-02\n",
       " 996    4.036605e-21\n",
       " 997    3.781753e-09\n",
       " 998    4.358775e-03\n",
       " 999    9.764138e-02\n",
       " Length: 1000, dtype: float64,\n",
       " 'w_a': 0      2.919180e-88\n",
       " 1      6.369749e-02\n",
       " 2      2.581936e-03\n",
       " 3      8.941438e-01\n",
       " 4      6.937328e-01\n",
       "            ...     \n",
       " 995    5.230783e-31\n",
       " 996    3.179817e-11\n",
       " 997    1.586210e-05\n",
       " 998    8.795425e-01\n",
       " 999    3.164927e-64\n",
       " Length: 1000, dtype: float64,\n",
       " 'w_b': 0      1.000000\n",
       " 1      0.936303\n",
       " 2      0.997418\n",
       " 3      0.105856\n",
       " 4      0.306267\n",
       "          ...   \n",
       " 995    1.000000\n",
       " 996    1.000000\n",
       " 997    0.999984\n",
       " 998    0.120457\n",
       " 999    1.000000\n",
       " Length: 1000, dtype: float64}"
      ]
     },
     "execution_count": 12,
     "metadata": {},
     "output_type": "execute_result"
    }
   ],
   "source": [
    "Mstep(Estep(params),df)\n"
   ]
  },
  {
   "cell_type": "markdown",
   "metadata": {},
   "source": [
    "## Defining the average likelihood function"
   ]
  },
  {
   "cell_type": "code",
   "execution_count": 13,
   "metadata": {},
   "outputs": [],
   "source": [
    "def get_avg_log_likelihood(p,df):\n",
    "    \n",
    "    Q_function_a = -1/2*((p['w_a']*((df.y-p['beta_a0']-p['beta_a1']*df.x)**2-math.log(p['variance_a']))).sum())\n",
    "    Q_function_b = -1/2*((p['w_b']*((df.y-p['beta_b0']-p['beta_b1']*df.x)**2-math.log(p['variance_b']))).sum())\n",
    "    \n",
    "    Q_function = Q_function_a + Q_function_b\n",
    "    \n",
    "    return Q_function"
   ]
  },
  {
   "cell_type": "markdown",
   "metadata": {},
   "source": [
    "## Running the EM-algorithm "
   ]
  },
  {
   "cell_type": "code",
   "execution_count": 14,
   "metadata": {},
   "outputs": [],
   "source": [
    "def run_em(p,df):\n",
    "    avg_loglikelihoods = []\n",
    "    p = initialize_parameter_list(p) #initialize params\n",
    "    \n",
    "    while True: \n",
    "        p = Mstep(Estep(p),df) # EM step\n",
    "                \n",
    "        #Evaluate the loglikelihood function\n",
    "        avg_loglikelihood = get_avg_log_likelihood(p,df)\n",
    "        avg_loglikelihoods.append(avg_loglikelihood)\n",
    "        slope = 1/avg_loglikelihood\n",
    "        if len(avg_loglikelihoods)>2 and (avg_loglikelihoods[-1] - avg_loglikelihoods[-2]) < 0:\n",
    "            break\n",
    "        if len(avg_loglikelihoods) > 2 and abs(avg_loglikelihoods[-1] - avg_loglikelihoods[-2]) < 0.0001: #Define a stopping criterion\n",
    "            break\n",
    "    \n",
    "    return p, avg_loglikelihoods\n"
   ]
  },
  {
   "cell_type": "code",
   "execution_count": 15,
   "metadata": {},
   "outputs": [],
   "source": [
    "new_params, log_likelies = run_em(params, df)"
   ]
  },
  {
   "cell_type": "code",
   "execution_count": 16,
   "metadata": {},
   "outputs": [
    {
     "data": {
      "text/plain": [
       "[-5143.5842187590815,\n",
       " -3688.738539068502,\n",
       " -3229.6738797862868,\n",
       " -3035.59213065692,\n",
       " -2926.572608554539,\n",
       " -2855.5927643419027,\n",
       " -2807.4770763170714,\n",
       " -2774.921948545113,\n",
       " -2750.6389290971965,\n",
       " -2727.6303023704522]"
      ]
     },
     "execution_count": 16,
     "metadata": {},
     "output_type": "execute_result"
    }
   ],
   "source": [
    "log_likelies[:10]"
   ]
  },
  {
   "cell_type": "code",
   "execution_count": 22,
   "metadata": {},
   "outputs": [
    {
     "name": "stdout",
     "output_type": "stream",
     "text": [
      "beta_a0 :2.140016483683324 beta_a1 :2.997360913874103\n",
      "beta_b0 :3.911867172305733 beta_b1 :4.027005819837619\n",
      "prob_class_1 :0.5498825868407252 prob_class_0 :0.45011741315927467\n",
      "variance_model_1 :8.746637743279205 variance_model_2 :8.746637743279205\n"
     ]
    }
   ],
   "source": [
    "print('beta_a0 :'+str(new_params['beta_a0']), 'beta_a1 :'+str(new_params['beta_a1']))\n",
    "print('beta_b0 :'+str(new_params['beta_b0']), 'beta_b1 :'+str(new_params['beta_b1']))\n",
    "print('prob_class_1 :'+str(new_params['prob_b']), 'prob_class_0 :'+str(new_params['prob_a']))\n",
    "print('variance_model_1 :'+str(new_params['variance_b']), 'variance_model_2 :'+str(new_params['variance_b']))"
   ]
  },
  {
   "cell_type": "markdown",
   "metadata": {},
   "source": [
    "**Comments**: The EM algorithm worked well as the estimated values are very close to the true values. Also the estimated probabilities for the classes are almost identical to the one the data was generated with. Only the variance seems to be off and higher than for the true data generating process."
   ]
  },
  {
   "cell_type": "markdown",
   "metadata": {},
   "source": [
    "## Plotting the iterations "
   ]
  },
  {
   "cell_type": "code",
   "execution_count": 15,
   "metadata": {},
   "outputs": [],
   "source": [
    "iterations = np.arange(0,len(log_likelies),1)\n",
    "data_log = pd.DataFrame(data={'logs': log_likelies, 'iterations': iterations})"
   ]
  },
  {
   "cell_type": "code",
   "execution_count": 16,
   "metadata": {},
   "outputs": [
    {
     "data": {
      "text/html": [
       "<div>\n",
       "<style scoped>\n",
       "    .dataframe tbody tr th:only-of-type {\n",
       "        vertical-align: middle;\n",
       "    }\n",
       "\n",
       "    .dataframe tbody tr th {\n",
       "        vertical-align: top;\n",
       "    }\n",
       "\n",
       "    .dataframe thead th {\n",
       "        text-align: right;\n",
       "    }\n",
       "</style>\n",
       "<table border=\"1\" class=\"dataframe\">\n",
       "  <thead>\n",
       "    <tr style=\"text-align: right;\">\n",
       "      <th></th>\n",
       "      <th>logs</th>\n",
       "      <th>iterations</th>\n",
       "    </tr>\n",
       "  </thead>\n",
       "  <tbody>\n",
       "    <tr>\n",
       "      <th>0</th>\n",
       "      <td>-4906.895191</td>\n",
       "      <td>0</td>\n",
       "    </tr>\n",
       "    <tr>\n",
       "      <th>1</th>\n",
       "      <td>-3558.318392</td>\n",
       "      <td>1</td>\n",
       "    </tr>\n",
       "    <tr>\n",
       "      <th>2</th>\n",
       "      <td>-3126.588306</td>\n",
       "      <td>2</td>\n",
       "    </tr>\n",
       "    <tr>\n",
       "      <th>3</th>\n",
       "      <td>-2969.780027</td>\n",
       "      <td>3</td>\n",
       "    </tr>\n",
       "    <tr>\n",
       "      <th>4</th>\n",
       "      <td>-2897.810030</td>\n",
       "      <td>4</td>\n",
       "    </tr>\n",
       "    <tr>\n",
       "      <th>...</th>\n",
       "      <td>...</td>\n",
       "      <td>...</td>\n",
       "    </tr>\n",
       "    <tr>\n",
       "      <th>95</th>\n",
       "      <td>-2181.246425</td>\n",
       "      <td>95</td>\n",
       "    </tr>\n",
       "    <tr>\n",
       "      <th>96</th>\n",
       "      <td>-2181.246282</td>\n",
       "      <td>96</td>\n",
       "    </tr>\n",
       "    <tr>\n",
       "      <th>97</th>\n",
       "      <td>-2181.246161</td>\n",
       "      <td>97</td>\n",
       "    </tr>\n",
       "    <tr>\n",
       "      <th>98</th>\n",
       "      <td>-2181.246060</td>\n",
       "      <td>98</td>\n",
       "    </tr>\n",
       "    <tr>\n",
       "      <th>99</th>\n",
       "      <td>-2181.245975</td>\n",
       "      <td>99</td>\n",
       "    </tr>\n",
       "  </tbody>\n",
       "</table>\n",
       "<p>100 rows × 2 columns</p>\n",
       "</div>"
      ],
      "text/plain": [
       "           logs  iterations\n",
       "0  -4906.895191           0\n",
       "1  -3558.318392           1\n",
       "2  -3126.588306           2\n",
       "3  -2969.780027           3\n",
       "4  -2897.810030           4\n",
       "..          ...         ...\n",
       "95 -2181.246425          95\n",
       "96 -2181.246282          96\n",
       "97 -2181.246161          97\n",
       "98 -2181.246060          98\n",
       "99 -2181.245975          99\n",
       "\n",
       "[100 rows x 2 columns]"
      ]
     },
     "execution_count": 16,
     "metadata": {},
     "output_type": "execute_result"
    }
   ],
   "source": [
    "data_log"
   ]
  },
  {
   "cell_type": "code",
   "execution_count": 17,
   "metadata": {},
   "outputs": [
    {
     "data": {
      "text/plain": [
       "<AxesSubplot:xlabel='iterations', ylabel='logs'>"
      ]
     },
     "execution_count": 17,
     "metadata": {},
     "output_type": "execute_result"
    },
    {
     "data": {
      "image/png": "[encoded data removed]",
      "text/plain": [
       "<Figure size 432x288 with 1 Axes>"
      ]
     },
     "metadata": {},
     "output_type": "display_data"
    }
   ],
   "source": [
    "sns.scatterplot(x = 'iterations', y = 'logs', data = data_log)"
   ]
  },
  {
   "cell_type": "markdown",
   "metadata": {},
   "source": [
    "**Comments**: We can see that the algorithm already converges after approximately 40 iterations. After that, there are only slight improvements in terms of the log likelihood. The relatively high number of iteration steps can be most likely be explained by the fact that in our updating rule in the algorithm (for $\\alpha$ and $\\beta$) are dependent on each other, i.e. for updating $\\beta_0$ one needs to know $\\beta_1$. As we take in our algorithm the previous value of $\\beta_1$ instead of the already updated current value for $\\beta_1$, the algorithm converges less fast."
   ]
  },
  {
   "cell_type": "markdown",
   "metadata": {},
   "source": [
    "# Numerical analysis"
   ]
  },
  {
   "cell_type": "markdown",
   "metadata": {},
   "source": [
    "The EM algorithm is an algorithm that finds a local maximum. Yet, as the solution we end up with depends on the starting values, it is recommended to run the algorithm many times, i.e. do numerical simulation with varying initialized values. On this way, we can get valuable information on the parameters to be estimated."
   ]
  },
  {
   "cell_type": "code",
   "execution_count": null,
   "metadata": {},
   "outputs": [],
   "source": [
    "betas_a0 = []\n",
    "betas_a1 = []\n",
    "betas_b0 = []\n",
    "betas_b1 = []\n",
    "iterations = []\n",
    "i = 0\n",
    "\n",
    "for i in range(0,1000):\n",
    "    parameter_list = initialize_parameter_list({})\n",
    "    try:\n",
    "        new_params, log_likelies = run_em(parameter_list, df)\n",
    "    except:\n",
    "        \"math error\"\n",
    "    betas_a0.append(new_params['beta_a0'])\n",
    "    betas_a1.append(new_params['beta_b0'])\n",
    "    betas_b0.append(new_params['beta_a1'])\n",
    "    betas_b1.append(new_params['beta_b1'])\n",
    "    i+= 1\n",
    "    iterations.append(i)"
   ]
  },
  {
   "cell_type": "code",
   "execution_count": 50,
   "metadata": {
    "scrolled": false
   },
   "outputs": [
    {
     "data": {
      "text/plain": [
       "Text(0.5, 1.0, 'Beta B1')"
      ]
     },
     "execution_count": 50,
     "metadata": {},
     "output_type": "execute_result"
    },
    {
     "data": {
      "image/png": "[encoded data removed]",
      "text/plain": [
       "<Figure size 1080x720 with 4 Axes>"
      ]
     },
     "metadata": {},
     "output_type": "display_data"
    }
   ],
   "source": [
    "# sns.scatterplot(x = betas_a0, y = iterations)\n",
    "fig, axes = plt.subplots(2, 2, figsize=(15,10))\n",
    "fig.suptitle(f'Beta Values over {i} EM Iterations')\n",
    "sns.histplot(x=betas_a0, ax=axes[0, 0]).set_title('Beta A0')\n",
    "sns.histplot(x=betas_a1, ax=axes[0, 1]).set_title('Beta A1')\n",
    "sns.histplot(x=betas_b0, ax=axes[1, 0]).set_title('Beta B0')\n",
    "sns.histplot(x=betas_b1, ax=axes[1, 1]).set_title('Beta B1')"
   ]
  },
  {
   "cell_type": "markdown",
   "metadata": {},
   "source": [
    "**Comments:** As we can see, for each parameter it seems as if there are two possible values. Yet, for all plots the true value is included. Yet, given the plots, it seems as if there are more than one local maxima, which underlines once more the need for numerical simulations."
   ]
  }
 ],
 "metadata": {
  "kernelspec": {
   "display_name": "Python 3",
   "language": "python",
   "name": "python3"
  },
  "language_info": {
   "codemirror_mode": {
    "name": "ipython",
    "version": 3
   },
   "file_extension": ".py",
   "mimetype": "text/x-python",
   "name": "python",
   "nbconvert_exporter": "python",
   "pygments_lexer": "ipython3",
   "version": "3.8.3"
  }
 },
 "nbformat": 4,
 "nbformat_minor": 4
}
